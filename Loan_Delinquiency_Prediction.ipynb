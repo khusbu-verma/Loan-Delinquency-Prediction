{
  "nbformat": 4,
  "nbformat_minor": 0,
  "metadata": {
    "colab": {
      "name": "Loan Delinquiency Prediction.ipynb",
      "provenance": [],
      "collapsed_sections": [
        "NmoOGo1Uzvtl",
        "d4888XvUYwas",
        "jBR3hqWlYTEy",
        "_0NLkNYXaH0W",
        "yl0HVhwOIhWg",
        "PXrOpNwsR7EJ",
        "fGQQXeg3XOPp"
      ]
    },
    "kernelspec": {
      "name": "python3",
      "display_name": "Python 3"
    }
  },
  "cells": [
    {
      "cell_type": "markdown",
      "metadata": {
        "id": "NmoOGo1Uzvtl"
      },
      "source": [
        "##Importing libraries"
      ]
    },
    {
      "cell_type": "code",
      "metadata": {
        "id": "YjuB5NbfzjY9",
        "colab": {
          "base_uri": "https://localhost:8080/"
        },
        "outputId": "f133ea05-b34a-4f5f-dc27-f6b4a70fd3d5"
      },
      "source": [
        "import numpy as np\r\n",
        "import pandas as pd\r\n",
        "import matplotlib.pyplot as plt\r\n",
        "import seaborn as sns\r\n",
        "from sklearn.feature_extraction.text import TfidfVectorizer\r\n",
        "from sklearn.feature_extraction.text import CountVectorizer\r\n",
        "from sklearn.naive_bayes import MultinomialNB\r\n",
        "from sklearn.naive_bayes import GaussianNB\r\n",
        "from imblearn.over_sampling import SMOTE\r\n",
        "from sklearn.multiclass import OneVsRestClassifier\r\n",
        "\r\n",
        "from sklearn.metrics import make_scorer,f1_score, accuracy_score,auc, confusion_matrix\r\n",
        "from sklearn.model_selection import train_test_split\r\n",
        "from sklearn.ensemble import RandomForestClassifier\r\n",
        "from sklearn.ensemble import RandomForestRegressor\r\n",
        "from sklearn.tree import DecisionTreeRegressor\r\n",
        "from sklearn.tree import DecisionTreeClassifier\r\n",
        "from sklearn.tree import ExtraTreeClassifier\r\n",
        "from sklearn.ensemble import AdaBoostClassifier\r\n",
        "from sklearn.ensemble import BaggingClassifier\r\n",
        "from sklearn.ensemble import ExtraTreesClassifier\r\n",
        "from sklearn.metrics import classification_report\r\n",
        "from sklearn.model_selection import GridSearchCV\r\n",
        "from sklearn.preprocessing import LabelEncoder, OneHotEncoder\r\n",
        "from sklearn.compose import ColumnTransformer \r\n",
        "from imblearn.over_sampling import SMOTE\r\n",
        "from scipy import stats\r\n",
        "import xgboost as xgb\r\n",
        "import matplotlib\r\n",
        "import sklearn"
      ],
      "execution_count": 1,
      "outputs": [
        {
          "output_type": "stream",
          "text": [
            "/usr/local/lib/python3.7/dist-packages/sklearn/externals/six.py:31: FutureWarning: The module is deprecated in version 0.21 and will be removed in version 0.23 since we've dropped support for Python 2.7. Please rely on the official version of six (https://pypi.org/project/six/).\n",
            "  \"(https://pypi.org/project/six/).\", FutureWarning)\n",
            "/usr/local/lib/python3.7/dist-packages/sklearn/utils/deprecation.py:144: FutureWarning: The sklearn.neighbors.base module is  deprecated in version 0.22 and will be removed in version 0.24. The corresponding classes / functions should instead be imported from sklearn.neighbors. Anything that cannot be imported from sklearn.neighbors is now part of the private API.\n",
            "  warnings.warn(message, FutureWarning)\n"
          ],
          "name": "stderr"
        }
      ]
    },
    {
      "cell_type": "code",
      "metadata": {
        "id": "m3wpg7yxzvHX"
      },
      "source": [
        "import warnings\r\n",
        "warnings.filterwarnings('ignore')\r\n",
        "%matplotlib inline"
      ],
      "execution_count": 2,
      "outputs": []
    },
    {
      "cell_type": "code",
      "metadata": {
        "id": "y1bm7vWyPAlf"
      },
      "source": [
        ""
      ],
      "execution_count": 2,
      "outputs": []
    },
    {
      "cell_type": "markdown",
      "metadata": {
        "id": "A7WKBQNYzz0s"
      },
      "source": [
        "##Reading the Data with Basic Understanding of Data"
      ]
    },
    {
      "cell_type": "code",
      "metadata": {
        "id": "8VQtldYaP10y"
      },
      "source": [
        ""
      ],
      "execution_count": 2,
      "outputs": []
    },
    {
      "cell_type": "code",
      "metadata": {
        "colab": {
          "base_uri": "https://localhost:8080/",
          "height": 274
        },
        "id": "_Paad1Fuz2mU",
        "outputId": "34755b98-d79c-43fb-a556-168348a755ef"
      },
      "source": [
        "df = pd.read_csv('train.csv')\r\n",
        "df_test = pd.read_csv('test.csv')\r\n",
        "df.head()"
      ],
      "execution_count": 106,
      "outputs": [
        {
          "output_type": "execute_result",
          "data": {
            "text/html": [
              "<div>\n",
              "<style scoped>\n",
              "    .dataframe tbody tr th:only-of-type {\n",
              "        vertical-align: middle;\n",
              "    }\n",
              "\n",
              "    .dataframe tbody tr th {\n",
              "        vertical-align: top;\n",
              "    }\n",
              "\n",
              "    .dataframe thead th {\n",
              "        text-align: right;\n",
              "    }\n",
              "</style>\n",
              "<table border=\"1\" class=\"dataframe\">\n",
              "  <thead>\n",
              "    <tr style=\"text-align: right;\">\n",
              "      <th></th>\n",
              "      <th>Unnamed: 0</th>\n",
              "      <th>loan_id</th>\n",
              "      <th>source</th>\n",
              "      <th>financial_institution</th>\n",
              "      <th>interest_rate</th>\n",
              "      <th>unpaid_principal_bal</th>\n",
              "      <th>loan_term</th>\n",
              "      <th>origination_date</th>\n",
              "      <th>first_payment_date</th>\n",
              "      <th>loan_to_value</th>\n",
              "      <th>number_of_borrowers</th>\n",
              "      <th>debt_to_income_ratio</th>\n",
              "      <th>borrower_credit_score</th>\n",
              "      <th>loan_purpose</th>\n",
              "      <th>insurance_percent</th>\n",
              "      <th>co-borrower_credit_score</th>\n",
              "      <th>insurance_type</th>\n",
              "      <th>m1</th>\n",
              "      <th>m2</th>\n",
              "      <th>m3</th>\n",
              "      <th>m4</th>\n",
              "      <th>m5</th>\n",
              "      <th>m6</th>\n",
              "      <th>m7</th>\n",
              "      <th>m8</th>\n",
              "      <th>m9</th>\n",
              "      <th>m10</th>\n",
              "      <th>m11</th>\n",
              "      <th>m12</th>\n",
              "      <th>m13</th>\n",
              "    </tr>\n",
              "  </thead>\n",
              "  <tbody>\n",
              "    <tr>\n",
              "      <th>0</th>\n",
              "      <td>81041</td>\n",
              "      <td>861482495205</td>\n",
              "      <td>Y</td>\n",
              "      <td>Martinez, Duffy and Bird</td>\n",
              "      <td>3.375</td>\n",
              "      <td>272000</td>\n",
              "      <td>180</td>\n",
              "      <td>2012-01-01</td>\n",
              "      <td>03/2012</td>\n",
              "      <td>72</td>\n",
              "      <td>2.0</td>\n",
              "      <td>31.0</td>\n",
              "      <td>770.0</td>\n",
              "      <td>B12</td>\n",
              "      <td>0.0</td>\n",
              "      <td>786.0</td>\n",
              "      <td>0.0</td>\n",
              "      <td>0</td>\n",
              "      <td>0</td>\n",
              "      <td>0</td>\n",
              "      <td>0</td>\n",
              "      <td>0</td>\n",
              "      <td>0</td>\n",
              "      <td>0</td>\n",
              "      <td>0</td>\n",
              "      <td>0</td>\n",
              "      <td>0</td>\n",
              "      <td>0</td>\n",
              "      <td>0</td>\n",
              "      <td>0</td>\n",
              "    </tr>\n",
              "    <tr>\n",
              "      <th>1</th>\n",
              "      <td>51021</td>\n",
              "      <td>173139140902</td>\n",
              "      <td>Y</td>\n",
              "      <td>Swanson, Newton and Miller</td>\n",
              "      <td>4.250</td>\n",
              "      <td>371000</td>\n",
              "      <td>360</td>\n",
              "      <td>2012-01-01</td>\n",
              "      <td>03/2012</td>\n",
              "      <td>95</td>\n",
              "      <td>1.0</td>\n",
              "      <td>45.0</td>\n",
              "      <td>727.0</td>\n",
              "      <td>C86</td>\n",
              "      <td>30.0</td>\n",
              "      <td>0.0</td>\n",
              "      <td>0.0</td>\n",
              "      <td>0</td>\n",
              "      <td>0</td>\n",
              "      <td>0</td>\n",
              "      <td>0</td>\n",
              "      <td>0</td>\n",
              "      <td>0</td>\n",
              "      <td>0</td>\n",
              "      <td>0</td>\n",
              "      <td>0</td>\n",
              "      <td>0</td>\n",
              "      <td>0</td>\n",
              "      <td>0</td>\n",
              "      <td>0</td>\n",
              "    </tr>\n",
              "    <tr>\n",
              "      <th>2</th>\n",
              "      <td>83866</td>\n",
              "      <td>481942560913</td>\n",
              "      <td>Y</td>\n",
              "      <td>OTHER</td>\n",
              "      <td>4.500</td>\n",
              "      <td>90000</td>\n",
              "      <td>360</td>\n",
              "      <td>2012-01-01</td>\n",
              "      <td>03/2012</td>\n",
              "      <td>69</td>\n",
              "      <td>1.0</td>\n",
              "      <td>39.0</td>\n",
              "      <td>726.0</td>\n",
              "      <td>B12</td>\n",
              "      <td>0.0</td>\n",
              "      <td>0.0</td>\n",
              "      <td>0.0</td>\n",
              "      <td>0</td>\n",
              "      <td>0</td>\n",
              "      <td>0</td>\n",
              "      <td>0</td>\n",
              "      <td>0</td>\n",
              "      <td>0</td>\n",
              "      <td>0</td>\n",
              "      <td>0</td>\n",
              "      <td>0</td>\n",
              "      <td>0</td>\n",
              "      <td>0</td>\n",
              "      <td>0</td>\n",
              "      <td>0</td>\n",
              "    </tr>\n",
              "    <tr>\n",
              "      <th>3</th>\n",
              "      <td>92311</td>\n",
              "      <td>676780245612</td>\n",
              "      <td>Y</td>\n",
              "      <td>Turner, Baldwin and Rhodes</td>\n",
              "      <td>4.500</td>\n",
              "      <td>47000</td>\n",
              "      <td>240</td>\n",
              "      <td>2012-02-01</td>\n",
              "      <td>04/2012</td>\n",
              "      <td>75</td>\n",
              "      <td>1.0</td>\n",
              "      <td>43.0</td>\n",
              "      <td>688.0</td>\n",
              "      <td>B12</td>\n",
              "      <td>0.0</td>\n",
              "      <td>0.0</td>\n",
              "      <td>0.0</td>\n",
              "      <td>0</td>\n",
              "      <td>0</td>\n",
              "      <td>0</td>\n",
              "      <td>1</td>\n",
              "      <td>0</td>\n",
              "      <td>0</td>\n",
              "      <td>0</td>\n",
              "      <td>0</td>\n",
              "      <td>0</td>\n",
              "      <td>0</td>\n",
              "      <td>0</td>\n",
              "      <td>0</td>\n",
              "      <td>0</td>\n",
              "    </tr>\n",
              "    <tr>\n",
              "      <th>4</th>\n",
              "      <td>72274</td>\n",
              "      <td>433043514697</td>\n",
              "      <td>X</td>\n",
              "      <td>OTHER</td>\n",
              "      <td>4.875</td>\n",
              "      <td>177000</td>\n",
              "      <td>360</td>\n",
              "      <td>2012-01-01</td>\n",
              "      <td>03/2012</td>\n",
              "      <td>80</td>\n",
              "      <td>2.0</td>\n",
              "      <td>13.0</td>\n",
              "      <td>675.0</td>\n",
              "      <td>C86</td>\n",
              "      <td>0.0</td>\n",
              "      <td>672.0</td>\n",
              "      <td>0.0</td>\n",
              "      <td>0</td>\n",
              "      <td>0</td>\n",
              "      <td>0</td>\n",
              "      <td>0</td>\n",
              "      <td>0</td>\n",
              "      <td>0</td>\n",
              "      <td>0</td>\n",
              "      <td>0</td>\n",
              "      <td>0</td>\n",
              "      <td>0</td>\n",
              "      <td>0</td>\n",
              "      <td>0</td>\n",
              "      <td>0</td>\n",
              "    </tr>\n",
              "  </tbody>\n",
              "</table>\n",
              "</div>"
            ],
            "text/plain": [
              "   Unnamed: 0       loan_id source  ... m11  m12  m13\n",
              "0       81041  861482495205      Y  ...   0    0    0\n",
              "1       51021  173139140902      Y  ...   0    0    0\n",
              "2       83866  481942560913      Y  ...   0    0    0\n",
              "3       92311  676780245612      Y  ...   0    0    0\n",
              "4       72274  433043514697      X  ...   0    0    0\n",
              "\n",
              "[5 rows x 30 columns]"
            ]
          },
          "metadata": {
            "tags": []
          },
          "execution_count": 106
        }
      ]
    },
    {
      "cell_type": "code",
      "metadata": {
        "colab": {
          "base_uri": "https://localhost:8080/",
          "height": 331
        },
        "id": "qVaELaeWz2pt",
        "outputId": "74245e14-fe05-4ae2-8f97-097d115d1ca5"
      },
      "source": [
        "df.describe()"
      ],
      "execution_count": 4,
      "outputs": [
        {
          "output_type": "execute_result",
          "data": {
            "text/html": [
              "<div>\n",
              "<style scoped>\n",
              "    .dataframe tbody tr th:only-of-type {\n",
              "        vertical-align: middle;\n",
              "    }\n",
              "\n",
              "    .dataframe tbody tr th {\n",
              "        vertical-align: top;\n",
              "    }\n",
              "\n",
              "    .dataframe thead th {\n",
              "        text-align: right;\n",
              "    }\n",
              "</style>\n",
              "<table border=\"1\" class=\"dataframe\">\n",
              "  <thead>\n",
              "    <tr style=\"text-align: right;\">\n",
              "      <th></th>\n",
              "      <th>Unnamed: 0</th>\n",
              "      <th>loan_id</th>\n",
              "      <th>interest_rate</th>\n",
              "      <th>unpaid_principal_bal</th>\n",
              "      <th>loan_term</th>\n",
              "      <th>loan_to_value</th>\n",
              "      <th>number_of_borrowers</th>\n",
              "      <th>debt_to_income_ratio</th>\n",
              "      <th>borrower_credit_score</th>\n",
              "      <th>insurance_percent</th>\n",
              "      <th>co-borrower_credit_score</th>\n",
              "      <th>insurance_type</th>\n",
              "      <th>m1</th>\n",
              "      <th>m2</th>\n",
              "      <th>m3</th>\n",
              "      <th>m4</th>\n",
              "      <th>m5</th>\n",
              "      <th>m6</th>\n",
              "      <th>m7</th>\n",
              "      <th>m8</th>\n",
              "      <th>m9</th>\n",
              "      <th>m10</th>\n",
              "      <th>m11</th>\n",
              "      <th>m12</th>\n",
              "      <th>m13</th>\n",
              "    </tr>\n",
              "  </thead>\n",
              "  <tbody>\n",
              "    <tr>\n",
              "      <th>count</th>\n",
              "      <td>71633.000000</td>\n",
              "      <td>7.163300e+04</td>\n",
              "      <td>71633.000000</td>\n",
              "      <td>71633.000000</td>\n",
              "      <td>71633.000000</td>\n",
              "      <td>71633.000000</td>\n",
              "      <td>71633.000000</td>\n",
              "      <td>71632.000000</td>\n",
              "      <td>71632.000000</td>\n",
              "      <td>71632.000000</td>\n",
              "      <td>71632.000000</td>\n",
              "      <td>71632.000000</td>\n",
              "      <td>71632.000000</td>\n",
              "      <td>71632.000000</td>\n",
              "      <td>71632.000000</td>\n",
              "      <td>71632.000000</td>\n",
              "      <td>71632.000000</td>\n",
              "      <td>71632.000000</td>\n",
              "      <td>71632.000000</td>\n",
              "      <td>71632.000000</td>\n",
              "      <td>71632.000000</td>\n",
              "      <td>71632.000000</td>\n",
              "      <td>71632.000000</td>\n",
              "      <td>71632.000000</td>\n",
              "      <td>71632.000000</td>\n",
              "    </tr>\n",
              "    <tr>\n",
              "      <th>mean</th>\n",
              "      <td>58100.704033</td>\n",
              "      <td>5.497014e+11</td>\n",
              "      <td>3.869165</td>\n",
              "      <td>208254.226404</td>\n",
              "      <td>292.299946</td>\n",
              "      <td>67.415297</td>\n",
              "      <td>1.592409</td>\n",
              "      <td>30.718729</td>\n",
              "      <td>769.982592</td>\n",
              "      <td>2.798079</td>\n",
              "      <td>459.134311</td>\n",
              "      <td>0.003281</td>\n",
              "      <td>0.003169</td>\n",
              "      <td>0.001927</td>\n",
              "      <td>0.001871</td>\n",
              "      <td>0.001996</td>\n",
              "      <td>0.003281</td>\n",
              "      <td>0.003183</td>\n",
              "      <td>0.003755</td>\n",
              "      <td>0.004705</td>\n",
              "      <td>0.005151</td>\n",
              "      <td>0.006561</td>\n",
              "      <td>0.006938</td>\n",
              "      <td>0.007650</td>\n",
              "      <td>0.005375</td>\n",
              "    </tr>\n",
              "    <tr>\n",
              "      <th>std</th>\n",
              "      <td>33448.471816</td>\n",
              "      <td>2.599721e+11</td>\n",
              "      <td>0.461934</td>\n",
              "      <td>114921.451630</td>\n",
              "      <td>89.780170</td>\n",
              "      <td>17.345532</td>\n",
              "      <td>0.491390</td>\n",
              "      <td>9.722785</td>\n",
              "      <td>42.540127</td>\n",
              "      <td>8.119460</td>\n",
              "      <td>382.132442</td>\n",
              "      <td>0.057183</td>\n",
              "      <td>0.062775</td>\n",
              "      <td>0.048391</td>\n",
              "      <td>0.051468</td>\n",
              "      <td>0.054237</td>\n",
              "      <td>0.076776</td>\n",
              "      <td>0.082308</td>\n",
              "      <td>0.093483</td>\n",
              "      <td>0.110297</td>\n",
              "      <td>0.124769</td>\n",
              "      <td>0.147334</td>\n",
              "      <td>0.158941</td>\n",
              "      <td>0.168667</td>\n",
              "      <td>0.073116</td>\n",
              "    </tr>\n",
              "    <tr>\n",
              "      <th>min</th>\n",
              "      <td>0.000000</td>\n",
              "      <td>1.000064e+11</td>\n",
              "      <td>2.250000</td>\n",
              "      <td>14000.000000</td>\n",
              "      <td>60.000000</td>\n",
              "      <td>6.000000</td>\n",
              "      <td>1.000000</td>\n",
              "      <td>1.000000</td>\n",
              "      <td>0.000000</td>\n",
              "      <td>0.000000</td>\n",
              "      <td>0.000000</td>\n",
              "      <td>0.000000</td>\n",
              "      <td>0.000000</td>\n",
              "      <td>0.000000</td>\n",
              "      <td>0.000000</td>\n",
              "      <td>0.000000</td>\n",
              "      <td>0.000000</td>\n",
              "      <td>0.000000</td>\n",
              "      <td>0.000000</td>\n",
              "      <td>0.000000</td>\n",
              "      <td>0.000000</td>\n",
              "      <td>0.000000</td>\n",
              "      <td>0.000000</td>\n",
              "      <td>0.000000</td>\n",
              "      <td>0.000000</td>\n",
              "    </tr>\n",
              "    <tr>\n",
              "      <th>25%</th>\n",
              "      <td>29189.000000</td>\n",
              "      <td>3.242829e+11</td>\n",
              "      <td>3.500000</td>\n",
              "      <td>120000.000000</td>\n",
              "      <td>180.000000</td>\n",
              "      <td>57.000000</td>\n",
              "      <td>1.000000</td>\n",
              "      <td>23.000000</td>\n",
              "      <td>751.000000</td>\n",
              "      <td>0.000000</td>\n",
              "      <td>0.000000</td>\n",
              "      <td>0.000000</td>\n",
              "      <td>0.000000</td>\n",
              "      <td>0.000000</td>\n",
              "      <td>0.000000</td>\n",
              "      <td>0.000000</td>\n",
              "      <td>0.000000</td>\n",
              "      <td>0.000000</td>\n",
              "      <td>0.000000</td>\n",
              "      <td>0.000000</td>\n",
              "      <td>0.000000</td>\n",
              "      <td>0.000000</td>\n",
              "      <td>0.000000</td>\n",
              "      <td>0.000000</td>\n",
              "      <td>0.000000</td>\n",
              "    </tr>\n",
              "    <tr>\n",
              "      <th>50%</th>\n",
              "      <td>58190.000000</td>\n",
              "      <td>5.491595e+11</td>\n",
              "      <td>3.875000</td>\n",
              "      <td>182000.000000</td>\n",
              "      <td>360.000000</td>\n",
              "      <td>72.000000</td>\n",
              "      <td>2.000000</td>\n",
              "      <td>31.000000</td>\n",
              "      <td>782.000000</td>\n",
              "      <td>0.000000</td>\n",
              "      <td>740.000000</td>\n",
              "      <td>0.000000</td>\n",
              "      <td>0.000000</td>\n",
              "      <td>0.000000</td>\n",
              "      <td>0.000000</td>\n",
              "      <td>0.000000</td>\n",
              "      <td>0.000000</td>\n",
              "      <td>0.000000</td>\n",
              "      <td>0.000000</td>\n",
              "      <td>0.000000</td>\n",
              "      <td>0.000000</td>\n",
              "      <td>0.000000</td>\n",
              "      <td>0.000000</td>\n",
              "      <td>0.000000</td>\n",
              "      <td>0.000000</td>\n",
              "    </tr>\n",
              "    <tr>\n",
              "      <th>75%</th>\n",
              "      <td>86955.000000</td>\n",
              "      <td>7.745321e+11</td>\n",
              "      <td>4.125000</td>\n",
              "      <td>278000.000000</td>\n",
              "      <td>360.000000</td>\n",
              "      <td>80.000000</td>\n",
              "      <td>2.000000</td>\n",
              "      <td>39.000000</td>\n",
              "      <td>800.000000</td>\n",
              "      <td>0.000000</td>\n",
              "      <td>791.000000</td>\n",
              "      <td>0.000000</td>\n",
              "      <td>0.000000</td>\n",
              "      <td>0.000000</td>\n",
              "      <td>0.000000</td>\n",
              "      <td>0.000000</td>\n",
              "      <td>0.000000</td>\n",
              "      <td>0.000000</td>\n",
              "      <td>0.000000</td>\n",
              "      <td>0.000000</td>\n",
              "      <td>0.000000</td>\n",
              "      <td>0.000000</td>\n",
              "      <td>0.000000</td>\n",
              "      <td>0.000000</td>\n",
              "      <td>0.000000</td>\n",
              "    </tr>\n",
              "    <tr>\n",
              "      <th>max</th>\n",
              "      <td>116057.000000</td>\n",
              "      <td>9.999971e+11</td>\n",
              "      <td>6.625000</td>\n",
              "      <td>915000.000000</td>\n",
              "      <td>360.000000</td>\n",
              "      <td>97.000000</td>\n",
              "      <td>2.000000</td>\n",
              "      <td>64.000000</td>\n",
              "      <td>834.000000</td>\n",
              "      <td>40.000000</td>\n",
              "      <td>836.000000</td>\n",
              "      <td>1.000000</td>\n",
              "      <td>3.000000</td>\n",
              "      <td>3.000000</td>\n",
              "      <td>4.000000</td>\n",
              "      <td>5.000000</td>\n",
              "      <td>6.000000</td>\n",
              "      <td>7.000000</td>\n",
              "      <td>8.000000</td>\n",
              "      <td>9.000000</td>\n",
              "      <td>10.000000</td>\n",
              "      <td>11.000000</td>\n",
              "      <td>11.000000</td>\n",
              "      <td>11.000000</td>\n",
              "      <td>1.000000</td>\n",
              "    </tr>\n",
              "  </tbody>\n",
              "</table>\n",
              "</div>"
            ],
            "text/plain": [
              "          Unnamed: 0       loan_id  ...           m12           m13\n",
              "count   71633.000000  7.163300e+04  ...  71632.000000  71632.000000\n",
              "mean    58100.704033  5.497014e+11  ...      0.007650      0.005375\n",
              "std     33448.471816  2.599721e+11  ...      0.168667      0.073116\n",
              "min         0.000000  1.000064e+11  ...      0.000000      0.000000\n",
              "25%     29189.000000  3.242829e+11  ...      0.000000      0.000000\n",
              "50%     58190.000000  5.491595e+11  ...      0.000000      0.000000\n",
              "75%     86955.000000  7.745321e+11  ...      0.000000      0.000000\n",
              "max    116057.000000  9.999971e+11  ...     11.000000      1.000000\n",
              "\n",
              "[8 rows x 25 columns]"
            ]
          },
          "metadata": {
            "tags": []
          },
          "execution_count": 4
        }
      ]
    },
    {
      "cell_type": "markdown",
      "metadata": {
        "id": "_IzBET2k7CnW"
      },
      "source": [
        "\r\n",
        "\r\n",
        "*   mean of target variable is 0.0054 whereas 75% of data lies at m13 = 0.0\r\n",
        "*   min and max values of the target variable lies between 0 and 1\r\n",
        "\r\n"
      ]
    },
    {
      "cell_type": "code",
      "metadata": {
        "colab": {
          "base_uri": "https://localhost:8080/",
          "height": 815
        },
        "id": "XzNZE4kxz2sr",
        "outputId": "2a5444ce-c3bb-496d-999d-89484b142bb7"
      },
      "source": [
        "df.describe().T"
      ],
      "execution_count": 5,
      "outputs": [
        {
          "output_type": "execute_result",
          "data": {
            "text/html": [
              "<div>\n",
              "<style scoped>\n",
              "    .dataframe tbody tr th:only-of-type {\n",
              "        vertical-align: middle;\n",
              "    }\n",
              "\n",
              "    .dataframe tbody tr th {\n",
              "        vertical-align: top;\n",
              "    }\n",
              "\n",
              "    .dataframe thead th {\n",
              "        text-align: right;\n",
              "    }\n",
              "</style>\n",
              "<table border=\"1\" class=\"dataframe\">\n",
              "  <thead>\n",
              "    <tr style=\"text-align: right;\">\n",
              "      <th></th>\n",
              "      <th>count</th>\n",
              "      <th>mean</th>\n",
              "      <th>std</th>\n",
              "      <th>min</th>\n",
              "      <th>25%</th>\n",
              "      <th>50%</th>\n",
              "      <th>75%</th>\n",
              "      <th>max</th>\n",
              "    </tr>\n",
              "  </thead>\n",
              "  <tbody>\n",
              "    <tr>\n",
              "      <th>Unnamed: 0</th>\n",
              "      <td>71633.0</td>\n",
              "      <td>5.810070e+04</td>\n",
              "      <td>3.344847e+04</td>\n",
              "      <td>0.000000e+00</td>\n",
              "      <td>2.918900e+04</td>\n",
              "      <td>5.819000e+04</td>\n",
              "      <td>8.695500e+04</td>\n",
              "      <td>1.160570e+05</td>\n",
              "    </tr>\n",
              "    <tr>\n",
              "      <th>loan_id</th>\n",
              "      <td>71633.0</td>\n",
              "      <td>5.497014e+11</td>\n",
              "      <td>2.599721e+11</td>\n",
              "      <td>1.000064e+11</td>\n",
              "      <td>3.242829e+11</td>\n",
              "      <td>5.491595e+11</td>\n",
              "      <td>7.745321e+11</td>\n",
              "      <td>9.999971e+11</td>\n",
              "    </tr>\n",
              "    <tr>\n",
              "      <th>interest_rate</th>\n",
              "      <td>71633.0</td>\n",
              "      <td>3.869165e+00</td>\n",
              "      <td>4.619341e-01</td>\n",
              "      <td>2.250000e+00</td>\n",
              "      <td>3.500000e+00</td>\n",
              "      <td>3.875000e+00</td>\n",
              "      <td>4.125000e+00</td>\n",
              "      <td>6.625000e+00</td>\n",
              "    </tr>\n",
              "    <tr>\n",
              "      <th>unpaid_principal_bal</th>\n",
              "      <td>71633.0</td>\n",
              "      <td>2.082542e+05</td>\n",
              "      <td>1.149215e+05</td>\n",
              "      <td>1.400000e+04</td>\n",
              "      <td>1.200000e+05</td>\n",
              "      <td>1.820000e+05</td>\n",
              "      <td>2.780000e+05</td>\n",
              "      <td>9.150000e+05</td>\n",
              "    </tr>\n",
              "    <tr>\n",
              "      <th>loan_term</th>\n",
              "      <td>71633.0</td>\n",
              "      <td>2.922999e+02</td>\n",
              "      <td>8.978017e+01</td>\n",
              "      <td>6.000000e+01</td>\n",
              "      <td>1.800000e+02</td>\n",
              "      <td>3.600000e+02</td>\n",
              "      <td>3.600000e+02</td>\n",
              "      <td>3.600000e+02</td>\n",
              "    </tr>\n",
              "    <tr>\n",
              "      <th>loan_to_value</th>\n",
              "      <td>71633.0</td>\n",
              "      <td>6.741530e+01</td>\n",
              "      <td>1.734553e+01</td>\n",
              "      <td>6.000000e+00</td>\n",
              "      <td>5.700000e+01</td>\n",
              "      <td>7.200000e+01</td>\n",
              "      <td>8.000000e+01</td>\n",
              "      <td>9.700000e+01</td>\n",
              "    </tr>\n",
              "    <tr>\n",
              "      <th>number_of_borrowers</th>\n",
              "      <td>71633.0</td>\n",
              "      <td>1.592409e+00</td>\n",
              "      <td>4.913899e-01</td>\n",
              "      <td>1.000000e+00</td>\n",
              "      <td>1.000000e+00</td>\n",
              "      <td>2.000000e+00</td>\n",
              "      <td>2.000000e+00</td>\n",
              "      <td>2.000000e+00</td>\n",
              "    </tr>\n",
              "    <tr>\n",
              "      <th>debt_to_income_ratio</th>\n",
              "      <td>71632.0</td>\n",
              "      <td>3.071873e+01</td>\n",
              "      <td>9.722785e+00</td>\n",
              "      <td>1.000000e+00</td>\n",
              "      <td>2.300000e+01</td>\n",
              "      <td>3.100000e+01</td>\n",
              "      <td>3.900000e+01</td>\n",
              "      <td>6.400000e+01</td>\n",
              "    </tr>\n",
              "    <tr>\n",
              "      <th>borrower_credit_score</th>\n",
              "      <td>71632.0</td>\n",
              "      <td>7.699826e+02</td>\n",
              "      <td>4.254013e+01</td>\n",
              "      <td>0.000000e+00</td>\n",
              "      <td>7.510000e+02</td>\n",
              "      <td>7.820000e+02</td>\n",
              "      <td>8.000000e+02</td>\n",
              "      <td>8.340000e+02</td>\n",
              "    </tr>\n",
              "    <tr>\n",
              "      <th>insurance_percent</th>\n",
              "      <td>71632.0</td>\n",
              "      <td>2.798079e+00</td>\n",
              "      <td>8.119460e+00</td>\n",
              "      <td>0.000000e+00</td>\n",
              "      <td>0.000000e+00</td>\n",
              "      <td>0.000000e+00</td>\n",
              "      <td>0.000000e+00</td>\n",
              "      <td>4.000000e+01</td>\n",
              "    </tr>\n",
              "    <tr>\n",
              "      <th>co-borrower_credit_score</th>\n",
              "      <td>71632.0</td>\n",
              "      <td>4.591343e+02</td>\n",
              "      <td>3.821324e+02</td>\n",
              "      <td>0.000000e+00</td>\n",
              "      <td>0.000000e+00</td>\n",
              "      <td>7.400000e+02</td>\n",
              "      <td>7.910000e+02</td>\n",
              "      <td>8.360000e+02</td>\n",
              "    </tr>\n",
              "    <tr>\n",
              "      <th>insurance_type</th>\n",
              "      <td>71632.0</td>\n",
              "      <td>3.280657e-03</td>\n",
              "      <td>5.718339e-02</td>\n",
              "      <td>0.000000e+00</td>\n",
              "      <td>0.000000e+00</td>\n",
              "      <td>0.000000e+00</td>\n",
              "      <td>0.000000e+00</td>\n",
              "      <td>1.000000e+00</td>\n",
              "    </tr>\n",
              "    <tr>\n",
              "      <th>m1</th>\n",
              "      <td>71632.0</td>\n",
              "      <td>3.168975e-03</td>\n",
              "      <td>6.277548e-02</td>\n",
              "      <td>0.000000e+00</td>\n",
              "      <td>0.000000e+00</td>\n",
              "      <td>0.000000e+00</td>\n",
              "      <td>0.000000e+00</td>\n",
              "      <td>3.000000e+00</td>\n",
              "    </tr>\n",
              "    <tr>\n",
              "      <th>m2</th>\n",
              "      <td>71632.0</td>\n",
              "      <td>1.926513e-03</td>\n",
              "      <td>4.839051e-02</td>\n",
              "      <td>0.000000e+00</td>\n",
              "      <td>0.000000e+00</td>\n",
              "      <td>0.000000e+00</td>\n",
              "      <td>0.000000e+00</td>\n",
              "      <td>3.000000e+00</td>\n",
              "    </tr>\n",
              "    <tr>\n",
              "      <th>m3</th>\n",
              "      <td>71632.0</td>\n",
              "      <td>1.870672e-03</td>\n",
              "      <td>5.146828e-02</td>\n",
              "      <td>0.000000e+00</td>\n",
              "      <td>0.000000e+00</td>\n",
              "      <td>0.000000e+00</td>\n",
              "      <td>0.000000e+00</td>\n",
              "      <td>4.000000e+00</td>\n",
              "    </tr>\n",
              "    <tr>\n",
              "      <th>m4</th>\n",
              "      <td>71632.0</td>\n",
              "      <td>1.996314e-03</td>\n",
              "      <td>5.423713e-02</td>\n",
              "      <td>0.000000e+00</td>\n",
              "      <td>0.000000e+00</td>\n",
              "      <td>0.000000e+00</td>\n",
              "      <td>0.000000e+00</td>\n",
              "      <td>5.000000e+00</td>\n",
              "    </tr>\n",
              "    <tr>\n",
              "      <th>m5</th>\n",
              "      <td>71632.0</td>\n",
              "      <td>3.280657e-03</td>\n",
              "      <td>7.677566e-02</td>\n",
              "      <td>0.000000e+00</td>\n",
              "      <td>0.000000e+00</td>\n",
              "      <td>0.000000e+00</td>\n",
              "      <td>0.000000e+00</td>\n",
              "      <td>6.000000e+00</td>\n",
              "    </tr>\n",
              "    <tr>\n",
              "      <th>m6</th>\n",
              "      <td>71632.0</td>\n",
              "      <td>3.182935e-03</td>\n",
              "      <td>8.230821e-02</td>\n",
              "      <td>0.000000e+00</td>\n",
              "      <td>0.000000e+00</td>\n",
              "      <td>0.000000e+00</td>\n",
              "      <td>0.000000e+00</td>\n",
              "      <td>7.000000e+00</td>\n",
              "    </tr>\n",
              "    <tr>\n",
              "      <th>m7</th>\n",
              "      <td>71632.0</td>\n",
              "      <td>3.755305e-03</td>\n",
              "      <td>9.348311e-02</td>\n",
              "      <td>0.000000e+00</td>\n",
              "      <td>0.000000e+00</td>\n",
              "      <td>0.000000e+00</td>\n",
              "      <td>0.000000e+00</td>\n",
              "      <td>8.000000e+00</td>\n",
              "    </tr>\n",
              "    <tr>\n",
              "      <th>m8</th>\n",
              "      <td>71632.0</td>\n",
              "      <td>4.704601e-03</td>\n",
              "      <td>1.102965e-01</td>\n",
              "      <td>0.000000e+00</td>\n",
              "      <td>0.000000e+00</td>\n",
              "      <td>0.000000e+00</td>\n",
              "      <td>0.000000e+00</td>\n",
              "      <td>9.000000e+00</td>\n",
              "    </tr>\n",
              "    <tr>\n",
              "      <th>m9</th>\n",
              "      <td>71632.0</td>\n",
              "      <td>5.151329e-03</td>\n",
              "      <td>1.247689e-01</td>\n",
              "      <td>0.000000e+00</td>\n",
              "      <td>0.000000e+00</td>\n",
              "      <td>0.000000e+00</td>\n",
              "      <td>0.000000e+00</td>\n",
              "      <td>1.000000e+01</td>\n",
              "    </tr>\n",
              "    <tr>\n",
              "      <th>m10</th>\n",
              "      <td>71632.0</td>\n",
              "      <td>6.561313e-03</td>\n",
              "      <td>1.473340e-01</td>\n",
              "      <td>0.000000e+00</td>\n",
              "      <td>0.000000e+00</td>\n",
              "      <td>0.000000e+00</td>\n",
              "      <td>0.000000e+00</td>\n",
              "      <td>1.100000e+01</td>\n",
              "    </tr>\n",
              "    <tr>\n",
              "      <th>m11</th>\n",
              "      <td>71632.0</td>\n",
              "      <td>6.938240e-03</td>\n",
              "      <td>1.589407e-01</td>\n",
              "      <td>0.000000e+00</td>\n",
              "      <td>0.000000e+00</td>\n",
              "      <td>0.000000e+00</td>\n",
              "      <td>0.000000e+00</td>\n",
              "      <td>1.100000e+01</td>\n",
              "    </tr>\n",
              "    <tr>\n",
              "      <th>m12</th>\n",
              "      <td>71632.0</td>\n",
              "      <td>7.650212e-03</td>\n",
              "      <td>1.686674e-01</td>\n",
              "      <td>0.000000e+00</td>\n",
              "      <td>0.000000e+00</td>\n",
              "      <td>0.000000e+00</td>\n",
              "      <td>0.000000e+00</td>\n",
              "      <td>1.100000e+01</td>\n",
              "    </tr>\n",
              "    <tr>\n",
              "      <th>m13</th>\n",
              "      <td>71632.0</td>\n",
              "      <td>5.374693e-03</td>\n",
              "      <td>7.311553e-02</td>\n",
              "      <td>0.000000e+00</td>\n",
              "      <td>0.000000e+00</td>\n",
              "      <td>0.000000e+00</td>\n",
              "      <td>0.000000e+00</td>\n",
              "      <td>1.000000e+00</td>\n",
              "    </tr>\n",
              "  </tbody>\n",
              "</table>\n",
              "</div>"
            ],
            "text/plain": [
              "                            count          mean  ...           75%           max\n",
              "Unnamed: 0                71633.0  5.810070e+04  ...  8.695500e+04  1.160570e+05\n",
              "loan_id                   71633.0  5.497014e+11  ...  7.745321e+11  9.999971e+11\n",
              "interest_rate             71633.0  3.869165e+00  ...  4.125000e+00  6.625000e+00\n",
              "unpaid_principal_bal      71633.0  2.082542e+05  ...  2.780000e+05  9.150000e+05\n",
              "loan_term                 71633.0  2.922999e+02  ...  3.600000e+02  3.600000e+02\n",
              "loan_to_value             71633.0  6.741530e+01  ...  8.000000e+01  9.700000e+01\n",
              "number_of_borrowers       71633.0  1.592409e+00  ...  2.000000e+00  2.000000e+00\n",
              "debt_to_income_ratio      71632.0  3.071873e+01  ...  3.900000e+01  6.400000e+01\n",
              "borrower_credit_score     71632.0  7.699826e+02  ...  8.000000e+02  8.340000e+02\n",
              "insurance_percent         71632.0  2.798079e+00  ...  0.000000e+00  4.000000e+01\n",
              "co-borrower_credit_score  71632.0  4.591343e+02  ...  7.910000e+02  8.360000e+02\n",
              "insurance_type            71632.0  3.280657e-03  ...  0.000000e+00  1.000000e+00\n",
              "m1                        71632.0  3.168975e-03  ...  0.000000e+00  3.000000e+00\n",
              "m2                        71632.0  1.926513e-03  ...  0.000000e+00  3.000000e+00\n",
              "m3                        71632.0  1.870672e-03  ...  0.000000e+00  4.000000e+00\n",
              "m4                        71632.0  1.996314e-03  ...  0.000000e+00  5.000000e+00\n",
              "m5                        71632.0  3.280657e-03  ...  0.000000e+00  6.000000e+00\n",
              "m6                        71632.0  3.182935e-03  ...  0.000000e+00  7.000000e+00\n",
              "m7                        71632.0  3.755305e-03  ...  0.000000e+00  8.000000e+00\n",
              "m8                        71632.0  4.704601e-03  ...  0.000000e+00  9.000000e+00\n",
              "m9                        71632.0  5.151329e-03  ...  0.000000e+00  1.000000e+01\n",
              "m10                       71632.0  6.561313e-03  ...  0.000000e+00  1.100000e+01\n",
              "m11                       71632.0  6.938240e-03  ...  0.000000e+00  1.100000e+01\n",
              "m12                       71632.0  7.650212e-03  ...  0.000000e+00  1.100000e+01\n",
              "m13                       71632.0  5.374693e-03  ...  0.000000e+00  1.000000e+00\n",
              "\n",
              "[25 rows x 8 columns]"
            ]
          },
          "metadata": {
            "tags": []
          },
          "execution_count": 5
        }
      ]
    },
    {
      "cell_type": "code",
      "metadata": {
        "colab": {
          "base_uri": "https://localhost:8080/"
        },
        "id": "ul3oPDkY52FN",
        "outputId": "5674501c-f11c-4440-dad5-14498503aa19"
      },
      "source": [
        "df.info()"
      ],
      "execution_count": 6,
      "outputs": [
        {
          "output_type": "stream",
          "text": [
            "<class 'pandas.core.frame.DataFrame'>\n",
            "RangeIndex: 71633 entries, 0 to 71632\n",
            "Data columns (total 30 columns):\n",
            " #   Column                    Non-Null Count  Dtype  \n",
            "---  ------                    --------------  -----  \n",
            " 0   Unnamed: 0                71633 non-null  int64  \n",
            " 1   loan_id                   71633 non-null  int64  \n",
            " 2   source                    71633 non-null  object \n",
            " 3   financial_institution     71633 non-null  object \n",
            " 4   interest_rate             71633 non-null  float64\n",
            " 5   unpaid_principal_bal      71633 non-null  int64  \n",
            " 6   loan_term                 71633 non-null  int64  \n",
            " 7   origination_date          71633 non-null  object \n",
            " 8   first_payment_date        71633 non-null  object \n",
            " 9   loan_to_value             71633 non-null  int64  \n",
            " 10  number_of_borrowers       71633 non-null  float64\n",
            " 11  debt_to_income_ratio      71632 non-null  float64\n",
            " 12  borrower_credit_score     71632 non-null  float64\n",
            " 13  loan_purpose              71632 non-null  object \n",
            " 14  insurance_percent         71632 non-null  float64\n",
            " 15  co-borrower_credit_score  71632 non-null  float64\n",
            " 16  insurance_type            71632 non-null  float64\n",
            " 17  m1                        71632 non-null  float64\n",
            " 18  m2                        71632 non-null  float64\n",
            " 19  m3                        71632 non-null  float64\n",
            " 20  m4                        71632 non-null  float64\n",
            " 21  m5                        71632 non-null  float64\n",
            " 22  m6                        71632 non-null  float64\n",
            " 23  m7                        71632 non-null  float64\n",
            " 24  m8                        71632 non-null  float64\n",
            " 25  m9                        71632 non-null  float64\n",
            " 26  m10                       71632 non-null  float64\n",
            " 27  m11                       71632 non-null  float64\n",
            " 28  m12                       71632 non-null  float64\n",
            " 29  m13                       71632 non-null  float64\n",
            "dtypes: float64(20), int64(5), object(5)\n",
            "memory usage: 16.4+ MB\n"
          ],
          "name": "stdout"
        }
      ]
    },
    {
      "cell_type": "code",
      "metadata": {
        "colab": {
          "base_uri": "https://localhost:8080/"
        },
        "id": "E_kTgcIJ6Y5u",
        "outputId": "aa22e170-d4a7-4282-965c-a1d9fff66ef3"
      },
      "source": [
        "df_test.info()"
      ],
      "execution_count": 7,
      "outputs": [
        {
          "output_type": "stream",
          "text": [
            "<class 'pandas.core.frame.DataFrame'>\n",
            "RangeIndex: 23212 entries, 0 to 23211\n",
            "Data columns (total 29 columns):\n",
            " #   Column                    Non-Null Count  Dtype  \n",
            "---  ------                    --------------  -----  \n",
            " 0   Unnamed: 0                23212 non-null  int64  \n",
            " 1   loan_id                   23212 non-null  int64  \n",
            " 2   source                    23212 non-null  object \n",
            " 3   financial_institution     23212 non-null  object \n",
            " 4   interest_rate             23212 non-null  float64\n",
            " 5   unpaid_principal_bal      23212 non-null  int64  \n",
            " 6   loan_term                 23212 non-null  int64  \n",
            " 7   origination_date          23212 non-null  object \n",
            " 8   first_payment_date        23212 non-null  object \n",
            " 9   loan_to_value             23212 non-null  int64  \n",
            " 10  number_of_borrowers       23212 non-null  float64\n",
            " 11  debt_to_income_ratio      23212 non-null  float64\n",
            " 12  borrower_credit_score     23212 non-null  float64\n",
            " 13  loan_purpose              23212 non-null  object \n",
            " 14  insurance_percent         23212 non-null  float64\n",
            " 15  co-borrower_credit_score  23212 non-null  float64\n",
            " 16  insurance_type            23212 non-null  float64\n",
            " 17  m1                        23212 non-null  int64  \n",
            " 18  m2                        23212 non-null  int64  \n",
            " 19  m3                        23212 non-null  int64  \n",
            " 20  m4                        23212 non-null  int64  \n",
            " 21  m5                        23212 non-null  int64  \n",
            " 22  m6                        23212 non-null  int64  \n",
            " 23  m7                        23212 non-null  int64  \n",
            " 24  m8                        23212 non-null  int64  \n",
            " 25  m9                        23212 non-null  int64  \n",
            " 26  m10                       23212 non-null  int64  \n",
            " 27  m11                       23212 non-null  int64  \n",
            " 28  m12                       23212 non-null  int64  \n",
            "dtypes: float64(7), int64(17), object(5)\n",
            "memory usage: 5.1+ MB\n"
          ],
          "name": "stdout"
        }
      ]
    },
    {
      "cell_type": "code",
      "metadata": {
        "colab": {
          "base_uri": "https://localhost:8080/"
        },
        "id": "HXhFlpefcyI4",
        "outputId": "bf100ffa-cb40-45a5-89f8-dff43dc074d1"
      },
      "source": [
        "df.shape"
      ],
      "execution_count": 104,
      "outputs": [
        {
          "output_type": "execute_result",
          "data": {
            "text/plain": [
              "(92846, 30)"
            ]
          },
          "metadata": {
            "tags": []
          },
          "execution_count": 104
        }
      ]
    },
    {
      "cell_type": "code",
      "metadata": {
        "colab": {
          "base_uri": "https://localhost:8080/"
        },
        "id": "-F9hgH8XczxM",
        "outputId": "f9636290-94c5-4cac-d330-30cee0bc39c1"
      },
      "source": [
        "df_test.shape"
      ],
      "execution_count": 105,
      "outputs": [
        {
          "output_type": "execute_result",
          "data": {
            "text/plain": [
              "(23212, 29)"
            ]
          },
          "metadata": {
            "tags": []
          },
          "execution_count": 105
        }
      ]
    },
    {
      "cell_type": "code",
      "metadata": {
        "colab": {
          "base_uri": "https://localhost:8080/"
        },
        "id": "Gi9yhd_S56d6",
        "outputId": "6b2d00c8-2743-438a-fedf-1a14df381ccf"
      },
      "source": [
        "print(df.isnull().sum())\r\n",
        "print(df_test.isnull().sum())"
      ],
      "execution_count": 8,
      "outputs": [
        {
          "output_type": "stream",
          "text": [
            "Unnamed: 0                  0\n",
            "loan_id                     0\n",
            "source                      0\n",
            "financial_institution       0\n",
            "interest_rate               0\n",
            "unpaid_principal_bal        0\n",
            "loan_term                   0\n",
            "origination_date            0\n",
            "first_payment_date          0\n",
            "loan_to_value               0\n",
            "number_of_borrowers         0\n",
            "debt_to_income_ratio        1\n",
            "borrower_credit_score       1\n",
            "loan_purpose                1\n",
            "insurance_percent           1\n",
            "co-borrower_credit_score    1\n",
            "insurance_type              1\n",
            "m1                          1\n",
            "m2                          1\n",
            "m3                          1\n",
            "m4                          1\n",
            "m5                          1\n",
            "m6                          1\n",
            "m7                          1\n",
            "m8                          1\n",
            "m9                          1\n",
            "m10                         1\n",
            "m11                         1\n",
            "m12                         1\n",
            "m13                         1\n",
            "dtype: int64\n",
            "Unnamed: 0                  0\n",
            "loan_id                     0\n",
            "source                      0\n",
            "financial_institution       0\n",
            "interest_rate               0\n",
            "unpaid_principal_bal        0\n",
            "loan_term                   0\n",
            "origination_date            0\n",
            "first_payment_date          0\n",
            "loan_to_value               0\n",
            "number_of_borrowers         0\n",
            "debt_to_income_ratio        0\n",
            "borrower_credit_score       0\n",
            "loan_purpose                0\n",
            "insurance_percent           0\n",
            "co-borrower_credit_score    0\n",
            "insurance_type              0\n",
            "m1                          0\n",
            "m2                          0\n",
            "m3                          0\n",
            "m4                          0\n",
            "m5                          0\n",
            "m6                          0\n",
            "m7                          0\n",
            "m8                          0\n",
            "m9                          0\n",
            "m10                         0\n",
            "m11                         0\n",
            "m12                         0\n",
            "dtype: int64\n"
          ],
          "name": "stdout"
        }
      ]
    },
    {
      "cell_type": "code",
      "metadata": {
        "colab": {
          "base_uri": "https://localhost:8080/"
        },
        "id": "1MQBxZQW583C",
        "outputId": "37427b16-2e3c-4464-cc83-65b3af3453f3"
      },
      "source": [
        "print(df.describe(include=object))\r\n",
        "print(df_test.describe(include=object))"
      ],
      "execution_count": 9,
      "outputs": [
        {
          "output_type": "stream",
          "text": [
            "       source financial_institution  ... first_payment_date loan_purpose\n",
            "count   71633                 71633  ...              71633        71632\n",
            "unique      3                    19  ...                  4            3\n",
            "top         X                 OTHER  ...            04/2012          A23\n",
            "freq    39363                 30730  ...              32667        36160\n",
            "\n",
            "[4 rows x 5 columns]\n",
            "       source financial_institution  ... first_payment_date loan_purpose\n",
            "count   23212                 23212  ...              23212        23212\n",
            "unique      3                    19  ...                  4            3\n",
            "top         X                 OTHER  ...            04/2012          A23\n",
            "freq    12791                  9933  ...              10558        11642\n",
            "\n",
            "[4 rows x 5 columns]\n"
          ],
          "name": "stdout"
        }
      ]
    },
    {
      "cell_type": "code",
      "metadata": {
        "colab": {
          "base_uri": "https://localhost:8080/"
        },
        "id": "iaKhENf36gg5",
        "outputId": "b5eec982-4325-4d4b-90cb-98c126d3ad41"
      },
      "source": [
        "df.dtypes\r\n",
        "df_test.dtypes"
      ],
      "execution_count": 10,
      "outputs": [
        {
          "output_type": "execute_result",
          "data": {
            "text/plain": [
              "Unnamed: 0                    int64\n",
              "loan_id                       int64\n",
              "source                       object\n",
              "financial_institution        object\n",
              "interest_rate               float64\n",
              "unpaid_principal_bal          int64\n",
              "loan_term                     int64\n",
              "origination_date             object\n",
              "first_payment_date           object\n",
              "loan_to_value                 int64\n",
              "number_of_borrowers         float64\n",
              "debt_to_income_ratio        float64\n",
              "borrower_credit_score       float64\n",
              "loan_purpose                 object\n",
              "insurance_percent           float64\n",
              "co-borrower_credit_score    float64\n",
              "insurance_type              float64\n",
              "m1                            int64\n",
              "m2                            int64\n",
              "m3                            int64\n",
              "m4                            int64\n",
              "m5                            int64\n",
              "m6                            int64\n",
              "m7                            int64\n",
              "m8                            int64\n",
              "m9                            int64\n",
              "m10                           int64\n",
              "m11                           int64\n",
              "m12                           int64\n",
              "dtype: object"
            ]
          },
          "metadata": {
            "tags": []
          },
          "execution_count": 10
        }
      ]
    },
    {
      "cell_type": "code",
      "metadata": {
        "id": "5CvUGA-P6gj0",
        "colab": {
          "base_uri": "https://localhost:8080/"
        },
        "outputId": "318f7cb3-ee73-4862-d2a2-9fdd159971d7"
      },
      "source": [
        "df['m13'].value_counts()"
      ],
      "execution_count": 11,
      "outputs": [
        {
          "output_type": "execute_result",
          "data": {
            "text/plain": [
              "0.0    71247\n",
              "1.0      385\n",
              "Name: m13, dtype: int64"
            ]
          },
          "metadata": {
            "tags": []
          },
          "execution_count": 11
        }
      ]
    },
    {
      "cell_type": "markdown",
      "metadata": {
        "id": "em4S83G6PqWi"
      },
      "source": [
        "Clearly Class Imbalance is present\r\n"
      ]
    },
    {
      "cell_type": "code",
      "metadata": {
        "id": "jGglhmXv6gm7",
        "colab": {
          "base_uri": "https://localhost:8080/"
        },
        "outputId": "ef059805-ca11-4f79-a237-d07c9259611d"
      },
      "source": [
        "duplicate_rows_df = df[df.duplicated()]\r\n",
        "print(\"number of duplicate rows: {}\".format(duplicate_rows_df.shape))"
      ],
      "execution_count": 12,
      "outputs": [
        {
          "output_type": "stream",
          "text": [
            "number of duplicate rows: (0, 30)\n"
          ],
          "name": "stdout"
        }
      ]
    },
    {
      "cell_type": "code",
      "metadata": {
        "id": "8By07a856gpy"
      },
      "source": [
        ""
      ],
      "execution_count": 12,
      "outputs": []
    },
    {
      "cell_type": "code",
      "metadata": {
        "id": "9Eb8n8n86gtM"
      },
      "source": [
        ""
      ],
      "execution_count": 12,
      "outputs": []
    },
    {
      "cell_type": "markdown",
      "metadata": {
        "id": "JgifRy58Px1n"
      },
      "source": [
        "##Basic EDA"
      ]
    },
    {
      "cell_type": "code",
      "metadata": {
        "colab": {
          "base_uri": "https://localhost:8080/",
          "height": 602
        },
        "id": "LQZzsDtbP3FB",
        "outputId": "13232e11-89ab-4f7d-e5c4-a3d7c671367e"
      },
      "source": [
        "#correlation matrix\r\n",
        "corrmat = df.corr()\r\n",
        "f, ax = plt.subplots(figsize=(10, 8))\r\n",
        "sns.heatmap(corrmat, vmax=.8, square=True);"
      ],
      "execution_count": 13,
      "outputs": [
        {
          "output_type": "display_data",
          "data": {
            "image/png": "[encoded data removed]",
            "text/plain": [
              "<Figure size 720x576 with 2 Axes>"
            ]
          },
          "metadata": {
            "tags": [],
            "needs_background": "light"
          }
        }
      ]
    },
    {
      "cell_type": "markdown",
      "metadata": {
        "id": "CN16QfY4QFqX"
      },
      "source": [
        "Correlation\r\n",
        "\r\n",
        "When two sets of data are strongly linked together we say they have a High Correlation.\r\n",
        "\r\n",
        "The word Correlation is made of Co- (meaning \"together\"), and Relation\r\n",
        "\r\n",
        "Correlation is Positive when the values increase together, and Correlation is Negative when one value decreases as the other increases A correlation is assumed to be linear (following a line).\r\n",
        "\r\n",
        "correlation examples Correlation can have a value:\r\n",
        "\r\n",
        "1 is a perfect positive correlation 0 is no correlation (the values don't seem linked at all) -1 is a perfect negative correlation The value shows how good the correlation is (not how steep the line is), and if it is positive or negative."
      ]
    },
    {
      "cell_type": "code",
      "metadata": {
        "id": "g2B1Vv9cP3Hv"
      },
      "source": [
        "# method to add percentage on the plot\r\n",
        "sns.set()\r\n",
        "total = float(len(df))\r\n",
        "def add_percentage(ax, total):\r\n",
        "    for i in ax.patches:\r\n",
        "        height = i.get_height()\r\n",
        "        ax.text(i.get_x()+i.get_width()/2.,height + 5,'{:1.2f}'.format(height/total*100) + '%')"
      ],
      "execution_count": 14,
      "outputs": []
    },
    {
      "cell_type": "code",
      "metadata": {
        "colab": {
          "base_uri": "https://localhost:8080/"
        },
        "id": "3K_4vU5oP3K3",
        "outputId": "8ff09e4d-4b34-4b97-b97d-7b900bb7b215"
      },
      "source": [
        "df['m13'].value_counts()/len(df)"
      ],
      "execution_count": 15,
      "outputs": [
        {
          "output_type": "execute_result",
          "data": {
            "text/plain": [
              "0.0    0.994611\n",
              "1.0    0.005375\n",
              "Name: m13, dtype: float64"
            ]
          },
          "metadata": {
            "tags": []
          },
          "execution_count": 15
        }
      ]
    },
    {
      "cell_type": "code",
      "metadata": {
        "id": "YXHye954Qfrp"
      },
      "source": [
        ""
      ],
      "execution_count": 15,
      "outputs": []
    },
    {
      "cell_type": "code",
      "metadata": {
        "colab": {
          "base_uri": "https://localhost:8080/",
          "height": 394
        },
        "id": "X7GJZ0eGP3OK",
        "outputId": "223e73ca-c4c3-477d-dc25-00851769713c"
      },
      "source": [
        "plt.figure(figsize=(12,6))\r\n",
        "ax =  sns.countplot(df.m13)\r\n",
        "add_percentage(ax, total)"
      ],
      "execution_count": 16,
      "outputs": [
        {
          "output_type": "display_data",
          "data": {
            "image/png": "[encoded data removed]",
            "text/plain": [
              "<Figure size 864x432 with 1 Axes>"
            ]
          },
          "metadata": {
            "tags": []
          }
        }
      ]
    },
    {
      "cell_type": "code",
      "metadata": {
        "colab": {
          "base_uri": "https://localhost:8080/",
          "height": 339
        },
        "id": "fToETkcCkNYj",
        "outputId": "6001c9a3-c3ff-4bde-bc51-5c1df60d71d2"
      },
      "source": [
        "df.source.value_counts(ascending=True).plot.barh(figsize=(6,5))"
      ],
      "execution_count": 108,
      "outputs": [
        {
          "output_type": "execute_result",
          "data": {
            "text/plain": [
              "<matplotlib.axes._subplots.AxesSubplot at 0x7fb73885a890>"
            ]
          },
          "metadata": {
            "tags": []
          },
          "execution_count": 108
        },
        {
          "output_type": "display_data",
          "data": {
            "image/png": "[encoded data removed]",
            "text/plain": [
              "<Figure size 432x360 with 1 Axes>"
            ]
          },
          "metadata": {
            "tags": []
          }
        }
      ]
    },
    {
      "cell_type": "code",
      "metadata": {
        "colab": {
          "base_uri": "https://localhost:8080/",
          "height": 395
        },
        "id": "jNbX9CzLkNbV",
        "outputId": "1c4c36b3-d84d-4b51-ebea-b4b6989976b6"
      },
      "source": [
        "df.financial_institution.value_counts(ascending=True).plot.barh(figsize=(8,6))"
      ],
      "execution_count": 110,
      "outputs": [
        {
          "output_type": "execute_result",
          "data": {
            "text/plain": [
              "<matplotlib.axes._subplots.AxesSubplot at 0x7fb738839290>"
            ]
          },
          "metadata": {
            "tags": []
          },
          "execution_count": 110
        },
        {
          "output_type": "display_data",
          "data": {
            "image/png": "[encoded data removed]",
            "text/plain": [
              "<Figure size 576x432 with 1 Axes>"
            ]
          },
          "metadata": {
            "tags": []
          }
        }
      ]
    },
    {
      "cell_type": "code",
      "metadata": {
        "colab": {
          "base_uri": "https://localhost:8080/",
          "height": 496
        },
        "id": "0uOV_76qkNeI",
        "outputId": "8c3eaca9-3d8e-4411-aefa-bf79346fb65c"
      },
      "source": [
        "plt.figure(figsize=(15,6))\r\n",
        "total = float(len(df))\r\n",
        "ax= sns.countplot(df.financial_institution)\r\n",
        "ax.set_xticklabels(ax.get_xticklabels(), rotation=40, ha=\"right\")\r\n",
        "add_percentage(ax, total)"
      ],
      "execution_count": 114,
      "outputs": [
        {
          "output_type": "display_data",
          "data": {
            "image/png": "[encoded data removed]",
            "text/plain": [
              "<Figure size 1080x432 with 1 Axes>"
            ]
          },
          "metadata": {
            "tags": []
          }
        }
      ]
    },
    {
      "cell_type": "code",
      "metadata": {
        "id": "AL2HdaKakNhu"
      },
      "source": [
        ""
      ],
      "execution_count": null,
      "outputs": []
    },
    {
      "cell_type": "markdown",
      "metadata": {
        "id": "4unMrcQiTu-9"
      },
      "source": [
        "##Encoding Catrgorical Data\r\n"
      ]
    },
    {
      "cell_type": "code",
      "metadata": {
        "colab": {
          "base_uri": "https://localhost:8080/",
          "height": 171
        },
        "id": "aiRs0DM-P3Rp",
        "outputId": "b0aeada6-7613-43c9-82eb-b9f3d5d170ff"
      },
      "source": [
        "df.describe(include=object)"
      ],
      "execution_count": 17,
      "outputs": [
        {
          "output_type": "execute_result",
          "data": {
            "text/html": [
              "<div>\n",
              "<style scoped>\n",
              "    .dataframe tbody tr th:only-of-type {\n",
              "        vertical-align: middle;\n",
              "    }\n",
              "\n",
              "    .dataframe tbody tr th {\n",
              "        vertical-align: top;\n",
              "    }\n",
              "\n",
              "    .dataframe thead th {\n",
              "        text-align: right;\n",
              "    }\n",
              "</style>\n",
              "<table border=\"1\" class=\"dataframe\">\n",
              "  <thead>\n",
              "    <tr style=\"text-align: right;\">\n",
              "      <th></th>\n",
              "      <th>source</th>\n",
              "      <th>financial_institution</th>\n",
              "      <th>origination_date</th>\n",
              "      <th>first_payment_date</th>\n",
              "      <th>loan_purpose</th>\n",
              "    </tr>\n",
              "  </thead>\n",
              "  <tbody>\n",
              "    <tr>\n",
              "      <th>count</th>\n",
              "      <td>71633</td>\n",
              "      <td>71633</td>\n",
              "      <td>71633</td>\n",
              "      <td>71633</td>\n",
              "      <td>71632</td>\n",
              "    </tr>\n",
              "    <tr>\n",
              "      <th>unique</th>\n",
              "      <td>3</td>\n",
              "      <td>19</td>\n",
              "      <td>3</td>\n",
              "      <td>4</td>\n",
              "      <td>3</td>\n",
              "    </tr>\n",
              "    <tr>\n",
              "      <th>top</th>\n",
              "      <td>X</td>\n",
              "      <td>OTHER</td>\n",
              "      <td>2012-02-01</td>\n",
              "      <td>04/2012</td>\n",
              "      <td>A23</td>\n",
              "    </tr>\n",
              "    <tr>\n",
              "      <th>freq</th>\n",
              "      <td>39363</td>\n",
              "      <td>30730</td>\n",
              "      <td>32383</td>\n",
              "      <td>32667</td>\n",
              "      <td>36160</td>\n",
              "    </tr>\n",
              "  </tbody>\n",
              "</table>\n",
              "</div>"
            ],
            "text/plain": [
              "       source financial_institution  ... first_payment_date loan_purpose\n",
              "count   71633                 71633  ...              71633        71632\n",
              "unique      3                    19  ...                  4            3\n",
              "top         X                 OTHER  ...            04/2012          A23\n",
              "freq    39363                 30730  ...              32667        36160\n",
              "\n",
              "[4 rows x 5 columns]"
            ]
          },
          "metadata": {
            "tags": []
          },
          "execution_count": 17
        }
      ]
    },
    {
      "cell_type": "code",
      "metadata": {
        "colab": {
          "base_uri": "https://localhost:8080/"
        },
        "id": "T2KHQ7wbSuKz",
        "outputId": "1d52f49b-edcc-45cd-e81e-817f5d466361"
      },
      "source": [
        "df.first_payment_date.value_counts()"
      ],
      "execution_count": 18,
      "outputs": [
        {
          "output_type": "execute_result",
          "data": {
            "text/plain": [
              "04/2012    32667\n",
              "03/2012    29329\n",
              "05/2012     9301\n",
              "02/2012      336\n",
              "Name: first_payment_date, dtype: int64"
            ]
          },
          "metadata": {
            "tags": []
          },
          "execution_count": 18
        }
      ]
    },
    {
      "cell_type": "code",
      "metadata": {
        "colab": {
          "base_uri": "https://localhost:8080/"
        },
        "id": "--Fk9kQtSzxN",
        "outputId": "4d58b542-f9d4-456d-d0ba-53c9d2710796"
      },
      "source": [
        "df.origination_date.value_counts()"
      ],
      "execution_count": 19,
      "outputs": [
        {
          "output_type": "execute_result",
          "data": {
            "text/plain": [
              "2012-02-01    32383\n",
              "2012-01-01    30204\n",
              "2012-03-01     9046\n",
              "Name: origination_date, dtype: int64"
            ]
          },
          "metadata": {
            "tags": []
          },
          "execution_count": 19
        }
      ]
    },
    {
      "cell_type": "code",
      "metadata": {
        "colab": {
          "base_uri": "https://localhost:8080/"
        },
        "id": "aPPWUYHDS3IQ",
        "outputId": "f3f5372f-202b-4ffe-c653-f8f95ed4213f"
      },
      "source": [
        "df.loan_purpose.value_counts()"
      ],
      "execution_count": 28,
      "outputs": [
        {
          "output_type": "execute_result",
          "data": {
            "text/plain": [
              "A23    36160\n",
              "B12    18059\n",
              "C86    17413\n",
              "Name: loan_purpose, dtype: int64"
            ]
          },
          "metadata": {
            "tags": []
          },
          "execution_count": 28
        }
      ]
    },
    {
      "cell_type": "code",
      "metadata": {
        "colab": {
          "base_uri": "https://localhost:8080/"
        },
        "id": "vdY7a7WjSqk5",
        "outputId": "d507e16d-0308-4d17-a3d4-84f837c0f469"
      },
      "source": [
        "df.source.value_counts()"
      ],
      "execution_count": 21,
      "outputs": [
        {
          "output_type": "execute_result",
          "data": {
            "text/plain": [
              "X    39363\n",
              "Y    23164\n",
              "Z     9106\n",
              "Name: source, dtype: int64"
            ]
          },
          "metadata": {
            "tags": []
          },
          "execution_count": 21
        }
      ]
    },
    {
      "cell_type": "code",
      "metadata": {
        "colab": {
          "base_uri": "https://localhost:8080/"
        },
        "id": "MkZwKP7FRybE",
        "outputId": "2231dc9a-48e5-47e6-e75c-3e21c8affcea"
      },
      "source": [
        "df.financial_institution.value_counts()"
      ],
      "execution_count": 22,
      "outputs": [
        {
          "output_type": "execute_result",
          "data": {
            "text/plain": [
              "OTHER                          30730\n",
              "Browning-Hart                  19538\n",
              "Swanson, Newton and Miller      4216\n",
              "Edwards-Hoffman                 2981\n",
              "Martinez, Duffy and Bird        2878\n",
              "Miller, Mcclure and Allen       1979\n",
              "Nicholson Group                 1361\n",
              "Turner, Baldwin and Rhodes      1164\n",
              "Suarez Inc                      1108\n",
              "Cole, Brooks and Vincent        1022\n",
              "Richards-Walters                 918\n",
              "Taylor, Hunt and Rodriguez       780\n",
              "Sanchez-Robinson                 746\n",
              "Sanchez, Hays and Wilkerson      520\n",
              "Romero, Woods and Johnson        454\n",
              "Thornton-Davis                   398\n",
              "Richardson Ltd                   302\n",
              "Anderson-Taylor                  297\n",
              "Chapman-Mcmahon                  241\n",
              "Name: financial_institution, dtype: int64"
            ]
          },
          "metadata": {
            "tags": []
          },
          "execution_count": 22
        }
      ]
    },
    {
      "cell_type": "code",
      "metadata": {
        "id": "GjVXRn5ARyd9"
      },
      "source": [
        "le = LabelEncoder()\r\n"
      ],
      "execution_count": 23,
      "outputs": []
    },
    {
      "cell_type": "code",
      "metadata": {
        "id": "t2c0Dl80X0YC"
      },
      "source": [
        ""
      ],
      "execution_count": 23,
      "outputs": []
    },
    {
      "cell_type": "code",
      "metadata": {
        "colab": {
          "base_uri": "https://localhost:8080/"
        },
        "id": "5WNuJwy5RyhM",
        "outputId": "a665d9f4-2426-4bce-c86d-4e3683090199"
      },
      "source": [
        "df.source = le.fit_transform(df.source)\r\n",
        "df.source.value_counts()"
      ],
      "execution_count": 42,
      "outputs": [
        {
          "output_type": "execute_result",
          "data": {
            "text/plain": [
              "0    51067\n",
              "1    30018\n",
              "2    11761\n",
              "Name: source, dtype: int64"
            ]
          },
          "metadata": {
            "tags": []
          },
          "execution_count": 42
        }
      ]
    },
    {
      "cell_type": "code",
      "metadata": {
        "colab": {
          "base_uri": "https://localhost:8080/"
        },
        "id": "iC16gBT0Ryky",
        "outputId": "3b04f61f-b22f-4a97-d573-f9447c6c41e2"
      },
      "source": [
        "df.loan_purpose = le.fit_transform(df.loan_purpose)\r\n",
        "df.loan_purpose.value_counts()"
      ],
      "execution_count": 43,
      "outputs": [
        {
          "output_type": "execute_result",
          "data": {
            "text/plain": [
              "0    46820\n",
              "1    23463\n",
              "2    22563\n",
              "Name: loan_purpose, dtype: int64"
            ]
          },
          "metadata": {
            "tags": []
          },
          "execution_count": 43
        }
      ]
    },
    {
      "cell_type": "code",
      "metadata": {
        "colab": {
          "base_uri": "https://localhost:8080/"
        },
        "id": "Ic2URBVnUolw",
        "outputId": "c7a290c1-4afb-41d8-baa7-57855d8f39c4"
      },
      "source": [
        "df.financial_institution = le.fit_transform(df.financial_institution)\r\n",
        "df.financial_institution.value_counts()"
      ],
      "execution_count": 44,
      "outputs": [
        {
          "output_type": "execute_result",
          "data": {
            "text/plain": [
              "8     39766\n",
              "1     25536\n",
              "15     5444\n",
              "4      3903\n",
              "5      3746\n",
              "6      2553\n",
              "7      1733\n",
              "18     1480\n",
              "14     1422\n",
              "3      1290\n",
              "9      1169\n",
              "16      998\n",
              "13      956\n",
              "12      679\n",
              "11      596\n",
              "17      510\n",
              "10      384\n",
              "0       377\n",
              "2       304\n",
              "Name: financial_institution, dtype: int64"
            ]
          },
          "metadata": {
            "tags": []
          },
          "execution_count": 44
        }
      ]
    },
    {
      "cell_type": "code",
      "metadata": {
        "id": "aLSa7RiFU1KO"
      },
      "source": [
        "df.origination_date = df['origination_date'].str.split('-').str[1]\r\n",
        "df.origination_date = df.origination_date.astype(int)\r\n"
      ],
      "execution_count": 45,
      "outputs": []
    },
    {
      "cell_type": "code",
      "metadata": {
        "id": "jFb-ydw-WgYS"
      },
      "source": [
        "df.first_payment_date = pd.to_datetime(df.first_payment_date, format ='%m/%Y' ).dt.month"
      ],
      "execution_count": 46,
      "outputs": []
    },
    {
      "cell_type": "code",
      "metadata": {
        "colab": {
          "base_uri": "https://localhost:8080/"
        },
        "id": "zaVLo__XWrOU",
        "outputId": "d7de025b-e28f-4518-b786-57346cecf7b4"
      },
      "source": [
        "df.origination_date.value_counts()"
      ],
      "execution_count": 47,
      "outputs": [
        {
          "output_type": "execute_result",
          "data": {
            "text/plain": [
              "2    41951\n",
              "1    39235\n",
              "3    11660\n",
              "Name: origination_date, dtype: int64"
            ]
          },
          "metadata": {
            "tags": []
          },
          "execution_count": 47
        }
      ]
    },
    {
      "cell_type": "code",
      "metadata": {
        "colab": {
          "base_uri": "https://localhost:8080/"
        },
        "id": "t8kSkHF1Xkab",
        "outputId": "7b1394f9-f8b7-4997-99eb-1c3547e3a562"
      },
      "source": [
        "df.first_payment_date.value_counts()"
      ],
      "execution_count": 48,
      "outputs": [
        {
          "output_type": "execute_result",
          "data": {
            "text/plain": [
              "4    42282\n",
              "3    38138\n",
              "5    12000\n",
              "2      426\n",
              "Name: first_payment_date, dtype: int64"
            ]
          },
          "metadata": {
            "tags": []
          },
          "execution_count": 48
        }
      ]
    },
    {
      "cell_type": "code",
      "metadata": {
        "colab": {
          "base_uri": "https://localhost:8080/",
          "height": 331
        },
        "id": "I3SHPFyLWkEp",
        "outputId": "4c963838-700e-411e-f7bc-d66330b927fc"
      },
      "source": [
        "df.describe()"
      ],
      "execution_count": 49,
      "outputs": [
        {
          "output_type": "execute_result",
          "data": {
            "text/html": [
              "<div>\n",
              "<style scoped>\n",
              "    .dataframe tbody tr th:only-of-type {\n",
              "        vertical-align: middle;\n",
              "    }\n",
              "\n",
              "    .dataframe tbody tr th {\n",
              "        vertical-align: top;\n",
              "    }\n",
              "\n",
              "    .dataframe thead th {\n",
              "        text-align: right;\n",
              "    }\n",
              "</style>\n",
              "<table border=\"1\" class=\"dataframe\">\n",
              "  <thead>\n",
              "    <tr style=\"text-align: right;\">\n",
              "      <th></th>\n",
              "      <th>Unnamed: 0</th>\n",
              "      <th>loan_id</th>\n",
              "      <th>source</th>\n",
              "      <th>financial_institution</th>\n",
              "      <th>interest_rate</th>\n",
              "      <th>unpaid_principal_bal</th>\n",
              "      <th>loan_term</th>\n",
              "      <th>origination_date</th>\n",
              "      <th>first_payment_date</th>\n",
              "      <th>loan_to_value</th>\n",
              "      <th>number_of_borrowers</th>\n",
              "      <th>debt_to_income_ratio</th>\n",
              "      <th>borrower_credit_score</th>\n",
              "      <th>loan_purpose</th>\n",
              "      <th>insurance_percent</th>\n",
              "      <th>co-borrower_credit_score</th>\n",
              "      <th>insurance_type</th>\n",
              "      <th>m1</th>\n",
              "      <th>m2</th>\n",
              "      <th>m3</th>\n",
              "      <th>m4</th>\n",
              "      <th>m5</th>\n",
              "      <th>m6</th>\n",
              "      <th>m7</th>\n",
              "      <th>m8</th>\n",
              "      <th>m9</th>\n",
              "      <th>m10</th>\n",
              "      <th>m11</th>\n",
              "      <th>m12</th>\n",
              "      <th>m13</th>\n",
              "    </tr>\n",
              "  </thead>\n",
              "  <tbody>\n",
              "    <tr>\n",
              "      <th>count</th>\n",
              "      <td>92846.000000</td>\n",
              "      <td>9.284600e+04</td>\n",
              "      <td>92846.000000</td>\n",
              "      <td>92846.000000</td>\n",
              "      <td>92846.000000</td>\n",
              "      <td>92846.000000</td>\n",
              "      <td>92846.000000</td>\n",
              "      <td>92846.000000</td>\n",
              "      <td>92846.000000</td>\n",
              "      <td>92846.000000</td>\n",
              "      <td>92846.000000</td>\n",
              "      <td>92846.000000</td>\n",
              "      <td>92846.000000</td>\n",
              "      <td>92846.000000</td>\n",
              "      <td>92846.000000</td>\n",
              "      <td>92846.000000</td>\n",
              "      <td>92846.000000</td>\n",
              "      <td>92846.000000</td>\n",
              "      <td>92846.000000</td>\n",
              "      <td>92846.000000</td>\n",
              "      <td>92846.000000</td>\n",
              "      <td>92846.000000</td>\n",
              "      <td>92846.000000</td>\n",
              "      <td>92846.000000</td>\n",
              "      <td>92846.000000</td>\n",
              "      <td>92846.000000</td>\n",
              "      <td>92846.000000</td>\n",
              "      <td>92846.000000</td>\n",
              "      <td>92846.000000</td>\n",
              "      <td>92846.000000</td>\n",
              "    </tr>\n",
              "    <tr>\n",
              "      <th>mean</th>\n",
              "      <td>58056.849170</td>\n",
              "      <td>5.491631e+11</td>\n",
              "      <td>0.576654</td>\n",
              "      <td>6.508326</td>\n",
              "      <td>3.869010</td>\n",
              "      <td>208047.325679</td>\n",
              "      <td>292.362816</td>\n",
              "      <td>1.703003</td>\n",
              "      <td>3.709304</td>\n",
              "      <td>67.424606</td>\n",
              "      <td>1.592583</td>\n",
              "      <td>30.737792</td>\n",
              "      <td>769.963348</td>\n",
              "      <td>0.738739</td>\n",
              "      <td>2.801338</td>\n",
              "      <td>459.209982</td>\n",
              "      <td>0.003274</td>\n",
              "      <td>0.003177</td>\n",
              "      <td>0.002057</td>\n",
              "      <td>0.001853</td>\n",
              "      <td>0.001993</td>\n",
              "      <td>0.003231</td>\n",
              "      <td>0.003167</td>\n",
              "      <td>0.003845</td>\n",
              "      <td>0.004577</td>\n",
              "      <td>0.005256</td>\n",
              "      <td>0.006484</td>\n",
              "      <td>0.007098</td>\n",
              "      <td>0.007916</td>\n",
              "      <td>0.005439</td>\n",
              "    </tr>\n",
              "    <tr>\n",
              "      <th>std</th>\n",
              "      <td>33485.886291</td>\n",
              "      <td>2.597886e+11</td>\n",
              "      <td>0.705318</td>\n",
              "      <td>4.444553</td>\n",
              "      <td>0.461126</td>\n",
              "      <td>114625.547432</td>\n",
              "      <td>89.723293</td>\n",
              "      <td>0.678206</td>\n",
              "      <td>0.688379</td>\n",
              "      <td>17.326684</td>\n",
              "      <td>0.491356</td>\n",
              "      <td>9.730489</td>\n",
              "      <td>42.311377</td>\n",
              "      <td>0.824040</td>\n",
              "      <td>8.123954</td>\n",
              "      <td>382.068572</td>\n",
              "      <td>0.057128</td>\n",
              "      <td>0.062447</td>\n",
              "      <td>0.049621</td>\n",
              "      <td>0.050596</td>\n",
              "      <td>0.053589</td>\n",
              "      <td>0.074190</td>\n",
              "      <td>0.080327</td>\n",
              "      <td>0.091753</td>\n",
              "      <td>0.107406</td>\n",
              "      <td>0.123994</td>\n",
              "      <td>0.145742</td>\n",
              "      <td>0.158699</td>\n",
              "      <td>0.171575</td>\n",
              "      <td>0.073550</td>\n",
              "    </tr>\n",
              "    <tr>\n",
              "      <th>min</th>\n",
              "      <td>0.000000</td>\n",
              "      <td>1.000064e+11</td>\n",
              "      <td>0.000000</td>\n",
              "      <td>0.000000</td>\n",
              "      <td>2.250000</td>\n",
              "      <td>14000.000000</td>\n",
              "      <td>60.000000</td>\n",
              "      <td>1.000000</td>\n",
              "      <td>2.000000</td>\n",
              "      <td>6.000000</td>\n",
              "      <td>1.000000</td>\n",
              "      <td>1.000000</td>\n",
              "      <td>0.000000</td>\n",
              "      <td>0.000000</td>\n",
              "      <td>0.000000</td>\n",
              "      <td>0.000000</td>\n",
              "      <td>0.000000</td>\n",
              "      <td>0.000000</td>\n",
              "      <td>0.000000</td>\n",
              "      <td>0.000000</td>\n",
              "      <td>0.000000</td>\n",
              "      <td>0.000000</td>\n",
              "      <td>0.000000</td>\n",
              "      <td>0.000000</td>\n",
              "      <td>0.000000</td>\n",
              "      <td>0.000000</td>\n",
              "      <td>0.000000</td>\n",
              "      <td>0.000000</td>\n",
              "      <td>0.000000</td>\n",
              "      <td>0.000000</td>\n",
              "    </tr>\n",
              "    <tr>\n",
              "      <th>25%</th>\n",
              "      <td>29054.250000</td>\n",
              "      <td>3.241490e+11</td>\n",
              "      <td>0.000000</td>\n",
              "      <td>1.000000</td>\n",
              "      <td>3.500000</td>\n",
              "      <td>120000.000000</td>\n",
              "      <td>180.000000</td>\n",
              "      <td>1.000000</td>\n",
              "      <td>3.000000</td>\n",
              "      <td>57.000000</td>\n",
              "      <td>1.000000</td>\n",
              "      <td>23.000000</td>\n",
              "      <td>751.000000</td>\n",
              "      <td>0.000000</td>\n",
              "      <td>0.000000</td>\n",
              "      <td>0.000000</td>\n",
              "      <td>0.000000</td>\n",
              "      <td>0.000000</td>\n",
              "      <td>0.000000</td>\n",
              "      <td>0.000000</td>\n",
              "      <td>0.000000</td>\n",
              "      <td>0.000000</td>\n",
              "      <td>0.000000</td>\n",
              "      <td>0.000000</td>\n",
              "      <td>0.000000</td>\n",
              "      <td>0.000000</td>\n",
              "      <td>0.000000</td>\n",
              "      <td>0.000000</td>\n",
              "      <td>0.000000</td>\n",
              "      <td>0.000000</td>\n",
              "    </tr>\n",
              "    <tr>\n",
              "      <th>50%</th>\n",
              "      <td>58062.500000</td>\n",
              "      <td>5.483891e+11</td>\n",
              "      <td>0.000000</td>\n",
              "      <td>8.000000</td>\n",
              "      <td>3.875000</td>\n",
              "      <td>182000.000000</td>\n",
              "      <td>360.000000</td>\n",
              "      <td>2.000000</td>\n",
              "      <td>4.000000</td>\n",
              "      <td>72.000000</td>\n",
              "      <td>2.000000</td>\n",
              "      <td>31.000000</td>\n",
              "      <td>782.000000</td>\n",
              "      <td>0.000000</td>\n",
              "      <td>0.000000</td>\n",
              "      <td>740.000000</td>\n",
              "      <td>0.000000</td>\n",
              "      <td>0.000000</td>\n",
              "      <td>0.000000</td>\n",
              "      <td>0.000000</td>\n",
              "      <td>0.000000</td>\n",
              "      <td>0.000000</td>\n",
              "      <td>0.000000</td>\n",
              "      <td>0.000000</td>\n",
              "      <td>0.000000</td>\n",
              "      <td>0.000000</td>\n",
              "      <td>0.000000</td>\n",
              "      <td>0.000000</td>\n",
              "      <td>0.000000</td>\n",
              "      <td>0.000000</td>\n",
              "    </tr>\n",
              "    <tr>\n",
              "      <th>75%</th>\n",
              "      <td>87035.500000</td>\n",
              "      <td>7.740564e+11</td>\n",
              "      <td>1.000000</td>\n",
              "      <td>8.000000</td>\n",
              "      <td>4.125000</td>\n",
              "      <td>278000.000000</td>\n",
              "      <td>360.000000</td>\n",
              "      <td>2.000000</td>\n",
              "      <td>4.000000</td>\n",
              "      <td>80.000000</td>\n",
              "      <td>2.000000</td>\n",
              "      <td>39.000000</td>\n",
              "      <td>800.000000</td>\n",
              "      <td>1.000000</td>\n",
              "      <td>0.000000</td>\n",
              "      <td>791.000000</td>\n",
              "      <td>0.000000</td>\n",
              "      <td>0.000000</td>\n",
              "      <td>0.000000</td>\n",
              "      <td>0.000000</td>\n",
              "      <td>0.000000</td>\n",
              "      <td>0.000000</td>\n",
              "      <td>0.000000</td>\n",
              "      <td>0.000000</td>\n",
              "      <td>0.000000</td>\n",
              "      <td>0.000000</td>\n",
              "      <td>0.000000</td>\n",
              "      <td>0.000000</td>\n",
              "      <td>0.000000</td>\n",
              "      <td>0.000000</td>\n",
              "    </tr>\n",
              "    <tr>\n",
              "      <th>max</th>\n",
              "      <td>116057.000000</td>\n",
              "      <td>9.999971e+11</td>\n",
              "      <td>2.000000</td>\n",
              "      <td>18.000000</td>\n",
              "      <td>6.750000</td>\n",
              "      <td>915000.000000</td>\n",
              "      <td>360.000000</td>\n",
              "      <td>3.000000</td>\n",
              "      <td>5.000000</td>\n",
              "      <td>97.000000</td>\n",
              "      <td>2.000000</td>\n",
              "      <td>64.000000</td>\n",
              "      <td>840.000000</td>\n",
              "      <td>2.000000</td>\n",
              "      <td>40.000000</td>\n",
              "      <td>836.000000</td>\n",
              "      <td>1.000000</td>\n",
              "      <td>3.000000</td>\n",
              "      <td>3.000000</td>\n",
              "      <td>4.000000</td>\n",
              "      <td>5.000000</td>\n",
              "      <td>6.000000</td>\n",
              "      <td>7.000000</td>\n",
              "      <td>8.000000</td>\n",
              "      <td>9.000000</td>\n",
              "      <td>10.000000</td>\n",
              "      <td>11.000000</td>\n",
              "      <td>11.000000</td>\n",
              "      <td>11.000000</td>\n",
              "      <td>1.000000</td>\n",
              "    </tr>\n",
              "  </tbody>\n",
              "</table>\n",
              "</div>"
            ],
            "text/plain": [
              "          Unnamed: 0       loan_id  ...           m12           m13\n",
              "count   92846.000000  9.284600e+04  ...  92846.000000  92846.000000\n",
              "mean    58056.849170  5.491631e+11  ...      0.007916      0.005439\n",
              "std     33485.886291  2.597886e+11  ...      0.171575      0.073550\n",
              "min         0.000000  1.000064e+11  ...      0.000000      0.000000\n",
              "25%     29054.250000  3.241490e+11  ...      0.000000      0.000000\n",
              "50%     58062.500000  5.483891e+11  ...      0.000000      0.000000\n",
              "75%     87035.500000  7.740564e+11  ...      0.000000      0.000000\n",
              "max    116057.000000  9.999971e+11  ...     11.000000      1.000000\n",
              "\n",
              "[8 rows x 30 columns]"
            ]
          },
          "metadata": {
            "tags": []
          },
          "execution_count": 49
        }
      ]
    },
    {
      "cell_type": "code",
      "metadata": {
        "colab": {
          "base_uri": "https://localhost:8080/",
          "height": 329
        },
        "id": "MSCK_8tJGPiR",
        "outputId": "eb77bb1d-b370-4a0b-a0c1-801ebf6486fc"
      },
      "source": [
        "df.describe(include= object)"
      ],
      "execution_count": 50,
      "outputs": [
        {
          "output_type": "error",
          "ename": "ValueError",
          "evalue": "ignored",
          "traceback": [
            "\u001b[0;31m---------------------------------------------------------------------------\u001b[0m",
            "\u001b[0;31mValueError\u001b[0m                                Traceback (most recent call last)",
            "\u001b[0;32m<ipython-input-50-b460d1999bc4>\u001b[0m in \u001b[0;36m<module>\u001b[0;34m()\u001b[0m\n\u001b[0;32m----> 1\u001b[0;31m \u001b[0mdf\u001b[0m\u001b[0;34m.\u001b[0m\u001b[0mdescribe\u001b[0m\u001b[0;34m(\u001b[0m\u001b[0minclude\u001b[0m\u001b[0;34m=\u001b[0m \u001b[0mobject\u001b[0m\u001b[0;34m)\u001b[0m\u001b[0;34m\u001b[0m\u001b[0;34m\u001b[0m\u001b[0m\n\u001b[0m",
            "\u001b[0;32m/usr/local/lib/python3.7/dist-packages/pandas/core/generic.py\u001b[0m in \u001b[0;36mdescribe\u001b[0;34m(self, percentiles, include, exclude, datetime_is_numeric)\u001b[0m\n\u001b[1;32m  10111\u001b[0m                     \u001b[0mnames\u001b[0m\u001b[0;34m.\u001b[0m\u001b[0mappend\u001b[0m\u001b[0;34m(\u001b[0m\u001b[0mname\u001b[0m\u001b[0;34m)\u001b[0m\u001b[0;34m\u001b[0m\u001b[0;34m\u001b[0m\u001b[0m\n\u001b[1;32m  10112\u001b[0m \u001b[0;34m\u001b[0m\u001b[0m\n\u001b[0;32m> 10113\u001b[0;31m         \u001b[0md\u001b[0m \u001b[0;34m=\u001b[0m \u001b[0mpd\u001b[0m\u001b[0;34m.\u001b[0m\u001b[0mconcat\u001b[0m\u001b[0;34m(\u001b[0m\u001b[0;34m[\u001b[0m\u001b[0mx\u001b[0m\u001b[0;34m.\u001b[0m\u001b[0mreindex\u001b[0m\u001b[0;34m(\u001b[0m\u001b[0mnames\u001b[0m\u001b[0;34m,\u001b[0m \u001b[0mcopy\u001b[0m\u001b[0;34m=\u001b[0m\u001b[0;32mFalse\u001b[0m\u001b[0;34m)\u001b[0m \u001b[0;32mfor\u001b[0m \u001b[0mx\u001b[0m \u001b[0;32min\u001b[0m \u001b[0mldesc\u001b[0m\u001b[0;34m]\u001b[0m\u001b[0;34m,\u001b[0m \u001b[0maxis\u001b[0m\u001b[0;34m=\u001b[0m\u001b[0;36m1\u001b[0m\u001b[0;34m,\u001b[0m \u001b[0msort\u001b[0m\u001b[0;34m=\u001b[0m\u001b[0;32mFalse\u001b[0m\u001b[0;34m)\u001b[0m\u001b[0;34m\u001b[0m\u001b[0;34m\u001b[0m\u001b[0m\n\u001b[0m\u001b[1;32m  10114\u001b[0m         \u001b[0md\u001b[0m\u001b[0;34m.\u001b[0m\u001b[0mcolumns\u001b[0m \u001b[0;34m=\u001b[0m \u001b[0mdata\u001b[0m\u001b[0;34m.\u001b[0m\u001b[0mcolumns\u001b[0m\u001b[0;34m.\u001b[0m\u001b[0mcopy\u001b[0m\u001b[0;34m(\u001b[0m\u001b[0;34m)\u001b[0m\u001b[0;34m\u001b[0m\u001b[0;34m\u001b[0m\u001b[0m\n\u001b[1;32m  10115\u001b[0m         \u001b[0;32mreturn\u001b[0m \u001b[0md\u001b[0m\u001b[0;34m\u001b[0m\u001b[0;34m\u001b[0m\u001b[0m\n",
            "\u001b[0;32m/usr/local/lib/python3.7/dist-packages/pandas/core/reshape/concat.py\u001b[0m in \u001b[0;36mconcat\u001b[0;34m(objs, axis, join, ignore_index, keys, levels, names, verify_integrity, sort, copy)\u001b[0m\n\u001b[1;32m    282\u001b[0m         \u001b[0mverify_integrity\u001b[0m\u001b[0;34m=\u001b[0m\u001b[0mverify_integrity\u001b[0m\u001b[0;34m,\u001b[0m\u001b[0;34m\u001b[0m\u001b[0;34m\u001b[0m\u001b[0m\n\u001b[1;32m    283\u001b[0m         \u001b[0mcopy\u001b[0m\u001b[0;34m=\u001b[0m\u001b[0mcopy\u001b[0m\u001b[0;34m,\u001b[0m\u001b[0;34m\u001b[0m\u001b[0;34m\u001b[0m\u001b[0m\n\u001b[0;32m--> 284\u001b[0;31m         \u001b[0msort\u001b[0m\u001b[0;34m=\u001b[0m\u001b[0msort\u001b[0m\u001b[0;34m,\u001b[0m\u001b[0;34m\u001b[0m\u001b[0;34m\u001b[0m\u001b[0m\n\u001b[0m\u001b[1;32m    285\u001b[0m     )\n\u001b[1;32m    286\u001b[0m \u001b[0;34m\u001b[0m\u001b[0m\n",
            "\u001b[0;32m/usr/local/lib/python3.7/dist-packages/pandas/core/reshape/concat.py\u001b[0m in \u001b[0;36m__init__\u001b[0;34m(self, objs, axis, join, keys, levels, names, ignore_index, verify_integrity, copy, sort)\u001b[0m\n\u001b[1;32m    329\u001b[0m \u001b[0;34m\u001b[0m\u001b[0m\n\u001b[1;32m    330\u001b[0m         \u001b[0;32mif\u001b[0m \u001b[0mlen\u001b[0m\u001b[0;34m(\u001b[0m\u001b[0mobjs\u001b[0m\u001b[0;34m)\u001b[0m \u001b[0;34m==\u001b[0m \u001b[0;36m0\u001b[0m\u001b[0;34m:\u001b[0m\u001b[0;34m\u001b[0m\u001b[0;34m\u001b[0m\u001b[0m\n\u001b[0;32m--> 331\u001b[0;31m             \u001b[0;32mraise\u001b[0m \u001b[0mValueError\u001b[0m\u001b[0;34m(\u001b[0m\u001b[0;34m\"No objects to concatenate\"\u001b[0m\u001b[0;34m)\u001b[0m\u001b[0;34m\u001b[0m\u001b[0;34m\u001b[0m\u001b[0m\n\u001b[0m\u001b[1;32m    332\u001b[0m \u001b[0;34m\u001b[0m\u001b[0m\n\u001b[1;32m    333\u001b[0m         \u001b[0;32mif\u001b[0m \u001b[0mkeys\u001b[0m \u001b[0;32mis\u001b[0m \u001b[0;32mNone\u001b[0m\u001b[0;34m:\u001b[0m\u001b[0;34m\u001b[0m\u001b[0;34m\u001b[0m\u001b[0m\n",
            "\u001b[0;31mValueError\u001b[0m: No objects to concatenate"
          ]
        }
      ]
    },
    {
      "cell_type": "markdown",
      "metadata": {
        "id": "d4888XvUYwas"
      },
      "source": [
        "##Train-Test Split\r\n"
      ]
    },
    {
      "cell_type": "code",
      "metadata": {
        "id": "YkiyKj6FY8V7"
      },
      "source": [
        "X = df.drop(['m13'],axis=1)\r\n",
        "y = df['m13']"
      ],
      "execution_count": 51,
      "outputs": []
    },
    {
      "cell_type": "code",
      "metadata": {
        "id": "w-ZJzOFoY0pA"
      },
      "source": [
        "X_train, X_test, y_train, y_test = train_test_split(X, y, random_state=0, test_size=0.3)"
      ],
      "execution_count": 52,
      "outputs": []
    },
    {
      "cell_type": "code",
      "metadata": {
        "id": "oy5f2cwxY0t1"
      },
      "source": [
        ""
      ],
      "execution_count": null,
      "outputs": []
    },
    {
      "cell_type": "code",
      "metadata": {
        "id": "ZYffZk0MY0xm"
      },
      "source": [
        ""
      ],
      "execution_count": null,
      "outputs": []
    },
    {
      "cell_type": "markdown",
      "metadata": {
        "id": "jBR3hqWlYTEy"
      },
      "source": [
        "##Imputing Class Imbalance"
      ]
    },
    {
      "cell_type": "code",
      "metadata": {
        "id": "_1I47UuSYa11"
      },
      "source": [
        "#Using SMOTE\r\n",
        "smote = SMOTE(random_state=0)\r\n",
        "    \r\n",
        "X_train_sm, y_train_sm =  smote.fit_sample(X_train, y_train)"
      ],
      "execution_count": 53,
      "outputs": []
    },
    {
      "cell_type": "code",
      "metadata": {
        "id": "Mu_YZqYQYa7N"
      },
      "source": [
        ""
      ],
      "execution_count": null,
      "outputs": []
    },
    {
      "cell_type": "code",
      "metadata": {
        "id": "NOQwWfQYYa-F"
      },
      "source": [
        ""
      ],
      "execution_count": null,
      "outputs": []
    },
    {
      "cell_type": "code",
      "metadata": {
        "id": "GFWY5OXbYbA5"
      },
      "source": [
        ""
      ],
      "execution_count": null,
      "outputs": []
    },
    {
      "cell_type": "code",
      "metadata": {
        "id": "wG1uV5WHdGmN"
      },
      "source": [
        ""
      ],
      "execution_count": null,
      "outputs": []
    },
    {
      "cell_type": "code",
      "metadata": {
        "id": "7J4lf7ppdHeV"
      },
      "source": [
        ""
      ],
      "execution_count": null,
      "outputs": []
    },
    {
      "cell_type": "markdown",
      "metadata": {
        "id": "_0NLkNYXaH0W"
      },
      "source": [
        "##Logistics Regression"
      ]
    },
    {
      "cell_type": "code",
      "metadata": {
        "colab": {
          "base_uri": "https://localhost:8080/"
        },
        "id": "kJPwA0shYbEV",
        "outputId": "a3c2f253-8155-4eda-e873-05d9421f8961"
      },
      "source": [
        "from sklearn.linear_model import LogisticRegression\r\n",
        "log =LogisticRegression()\r\n",
        "log.fit(X_train,y_train)"
      ],
      "execution_count": 55,
      "outputs": [
        {
          "output_type": "execute_result",
          "data": {
            "text/plain": [
              "LogisticRegression(C=1.0, class_weight=None, dual=False, fit_intercept=True,\n",
              "                   intercept_scaling=1, l1_ratio=None, max_iter=100,\n",
              "                   multi_class='auto', n_jobs=None, penalty='l2',\n",
              "                   random_state=None, solver='lbfgs', tol=0.0001, verbose=0,\n",
              "                   warm_start=False)"
            ]
          },
          "metadata": {
            "tags": []
          },
          "execution_count": 55
        }
      ]
    },
    {
      "cell_type": "code",
      "metadata": {
        "colab": {
          "base_uri": "https://localhost:8080/"
        },
        "id": "Oym1_yxhao8_",
        "outputId": "42c1f66f-e0a8-4f61-bab1-5655cea2e8ac"
      },
      "source": [
        "#model on train using all the independent values in df\r\n",
        "log_prediction = log.predict(X_train)\r\n",
        "print('F1 score on train set using Logistic Regression :',f1_score(y_train,log_prediction))\r\n",
        "y_prediction = log.predict(X_test)\r\n",
        "print('F1 score on train set using Logistic Regression :',f1_score(y_test,y_prediction))"
      ],
      "execution_count": 56,
      "outputs": [
        {
          "output_type": "stream",
          "text": [
            "F1 score on train set using Logistic Regression : 0.0\n",
            "F1 score on train set using Logistic Regression : 0.0\n"
          ],
          "name": "stdout"
        }
      ]
    },
    {
      "cell_type": "code",
      "metadata": {
        "colab": {
          "base_uri": "https://localhost:8080/"
        },
        "id": "Ne9ZtSEEbzLT",
        "outputId": "622366f0-8957-4513-faf5-f4e0b2f7ed21"
      },
      "source": [
        "#model on train using all the independent values in df\r\n",
        "log.fit(X_train_sm, y_train_sm)\r\n",
        "log_prediction = log.predict(X_train_sm)\r\n",
        "print('F1 score on train set using Logistic Regression :',f1_score(y_train_sm,log_prediction))\r\n",
        "y_prediction = log.predict(X_test)\r\n",
        "print('F1 score on train set using Logistic Regression :',f1_score(y_test,y_prediction))"
      ],
      "execution_count": 60,
      "outputs": [
        {
          "output_type": "stream",
          "text": [
            "F1 score on train set using Logistic Regression : 0.0\n",
            "F1 score on train set using Logistic Regression : 0.0\n"
          ],
          "name": "stdout"
        }
      ]
    },
    {
      "cell_type": "code",
      "metadata": {
        "id": "K6qHKJega7CU"
      },
      "source": [
        ""
      ],
      "execution_count": null,
      "outputs": []
    },
    {
      "cell_type": "code",
      "metadata": {
        "id": "B2b3DixOa9G_"
      },
      "source": [
        ""
      ],
      "execution_count": null,
      "outputs": []
    },
    {
      "cell_type": "markdown",
      "metadata": {
        "id": "yl0HVhwOIhWg"
      },
      "source": [
        "##Decision Tree Regressor"
      ]
    },
    {
      "cell_type": "code",
      "metadata": {
        "id": "PgBmXFXbJEId"
      },
      "source": [
        "dec=DecisionTreeClassifier()"
      ],
      "execution_count": 58,
      "outputs": []
    },
    {
      "cell_type": "code",
      "metadata": {
        "id": "S5gUOOBFJELe"
      },
      "source": [
        ""
      ],
      "execution_count": 61,
      "outputs": []
    },
    {
      "cell_type": "code",
      "metadata": {
        "colab": {
          "base_uri": "https://localhost:8080/"
        },
        "id": "70QawKNLJEOG",
        "outputId": "616b8b98-5aa4-4922-e0db-b0a1876b6cc0"
      },
      "source": [
        "dec.fit(X_train,y_train)\r\n",
        "dec_prediction = dec.predict(X_train)\r\n",
        "print('F1 score on train set using Decision Tree Classifier :',f1_score(y_train,dec_prediction))\r\n",
        "y_prediction = dec.predict(X_test)\r\n",
        "print('F1 score on train set using Decision Tree Classifier :',f1_score(y_test,y_prediction))\r\n"
      ],
      "execution_count": 77,
      "outputs": [
        {
          "output_type": "stream",
          "text": [
            "F1 score on train set using Decision Tree Regressor : 1.0\n",
            "F1 score on train set using Decision Tree Regressor : 1.0\n"
          ],
          "name": "stdout"
        }
      ]
    },
    {
      "cell_type": "code",
      "metadata": {
        "colab": {
          "base_uri": "https://localhost:8080/"
        },
        "id": "oTj2V5f0KD9O",
        "outputId": "234cfeb0-acff-43a8-bf9f-1604dfdb91c5"
      },
      "source": [
        "dec.fit(X_train_sm,y_train_sm)\r\n",
        "dec_prediction = dec.predict(X_train)\r\n",
        "print('F1 score on train set using Decision Tree Classifier :',f1_score(y_train,dec_prediction))\r\n",
        "y_prediction = log.predict(X_test)\r\n",
        "print('F1 score on train set using Decision Tree Classifier :',f1_score(y_test,y_prediction))"
      ],
      "execution_count": 66,
      "outputs": [
        {
          "output_type": "stream",
          "text": [
            "F1 score on train set using Decision Tree Regressor : 1.0\n",
            "F1 score on train set using Decision Tree Regressor : 1.0\n"
          ],
          "name": "stdout"
        }
      ]
    },
    {
      "cell_type": "code",
      "metadata": {
        "id": "5OTel2PnKEAg"
      },
      "source": [
        ""
      ],
      "execution_count": null,
      "outputs": []
    },
    {
      "cell_type": "code",
      "metadata": {
        "id": "jBXI91A4KEDk"
      },
      "source": [
        ""
      ],
      "execution_count": null,
      "outputs": []
    },
    {
      "cell_type": "markdown",
      "metadata": {
        "id": "7w1FEfPcMK_v"
      },
      "source": [
        "##Random Forest Classifier"
      ]
    },
    {
      "cell_type": "code",
      "metadata": {
        "id": "gxgy4fS-MRfg"
      },
      "source": [
        "rfc=RandomForestClassifier(n_estimators=300)"
      ],
      "execution_count": 67,
      "outputs": []
    },
    {
      "cell_type": "code",
      "metadata": {
        "colab": {
          "base_uri": "https://localhost:8080/"
        },
        "id": "P4ftdUBbMRiM",
        "outputId": "7b99ea27-1932-44a9-c255-2d341ce83bb9"
      },
      "source": [
        "rfc.fit(X_train,y_train)\r\n",
        "rfc_prediction = rfc.predict(X_train)\r\n",
        "print('F1 score on train set using Random Forest Classifier :',f1_score(y_train,rfc_prediction))\r\n",
        "y_prediction = rfc.predict(X_test)\r\n",
        "print('F1 score on train set using Random Forest Classifier :',f1_score(y_test,y_prediction))"
      ],
      "execution_count": 75,
      "outputs": [
        {
          "output_type": "stream",
          "text": [
            "F1 score on train set using Decision Tree Regressor : 1.0\n",
            "F1 score on train set using Decision Tree Regressor : 1.0\n"
          ],
          "name": "stdout"
        }
      ]
    },
    {
      "cell_type": "code",
      "metadata": {
        "colab": {
          "base_uri": "https://localhost:8080/"
        },
        "id": "MVUsoKpzMRlU",
        "outputId": "c7e43e2b-c770-4bef-9ff8-7306cdd42118"
      },
      "source": [
        "rfc.fit(X_train_sm,y_train_sm)\r\n",
        "rfc_prediction = rfc.predict(X_train_sm)\r\n",
        "print('F1 score on train set using Random Forest Classifier :',f1_score(y_train_sm,rfc_prediction))\r\n",
        "y_prediction = rfc.predict(X_test)\r\n",
        "print('F1 score on train set using Random Forest Classifier :',f1_score(y_test,y_prediction))"
      ],
      "execution_count": 76,
      "outputs": [
        {
          "output_type": "stream",
          "text": [
            "F1 score on train set using Decision Tree Regressor : 1.0\n",
            "F1 score on train set using Decision Tree Regressor : 1.0\n"
          ],
          "name": "stdout"
        }
      ]
    },
    {
      "cell_type": "code",
      "metadata": {
        "id": "vdx_UjezMRoe"
      },
      "source": [
        ""
      ],
      "execution_count": null,
      "outputs": []
    },
    {
      "cell_type": "markdown",
      "metadata": {
        "id": "PXrOpNwsR7EJ"
      },
      "source": [
        "##XGBOOST\r\n"
      ]
    },
    {
      "cell_type": "code",
      "metadata": {
        "id": "__haZZ-4R9RZ"
      },
      "source": [
        "xgboost = xgb.XGBClassifier(max_depth=5,n_estimators=300,learning_rate=0.05)"
      ],
      "execution_count": 69,
      "outputs": []
    },
    {
      "cell_type": "code",
      "metadata": {
        "colab": {
          "base_uri": "https://localhost:8080/"
        },
        "id": "gD_7WKPAR9Zw",
        "outputId": "a65559f8-cd3a-4bef-9006-40c8b9e3e380"
      },
      "source": [
        "xgboost.fit(X_train,y_train)\r\n",
        "xgb_prediction = xgboost.predict(X_train)\r\n",
        "print('F1 score on train set using XG Boost :',f1_score(y_train,xgb_prediction))\r\n",
        "y_prediction = xgboost.predict(X_test)\r\n",
        "print('F1 score on train set using XG Boost :',f1_score(y_test,y_prediction))"
      ],
      "execution_count": 84,
      "outputs": [
        {
          "output_type": "stream",
          "text": [
            "F1 score on train set using XG Boost : 1.0\n",
            "F1 score on train set using XG Boost : 1.0\n"
          ],
          "name": "stdout"
        }
      ]
    },
    {
      "cell_type": "code",
      "metadata": {
        "colab": {
          "base_uri": "https://localhost:8080/",
          "height": 537
        },
        "id": "I0Px3XLXR9dU",
        "outputId": "1bb7418b-3f48-4dfc-9ba7-603877ac1138"
      },
      "source": [
        "xgboost.fit(X_train_sm,y_train_sm)\r\n",
        "xgb_prediction = xgboost.predict(X_train_sm)\r\n",
        "print('F1 score on train set using XGBoost :',f1_score(y_train_sm,xgb_prediction))\r\n",
        "y_prediction = xgboost.predict(X_test)\r\n",
        "print('F1 score on train set using XG Boost :',f1_score(y_test,y_prediction))"
      ],
      "execution_count": 85,
      "outputs": [
        {
          "output_type": "stream",
          "text": [
            "F1 score on train set using XGBoost : 1.0\n"
          ],
          "name": "stdout"
        },
        {
          "output_type": "error",
          "ename": "ValueError",
          "evalue": "ignored",
          "traceback": [
            "\u001b[0;31m---------------------------------------------------------------------------\u001b[0m",
            "\u001b[0;31mValueError\u001b[0m                                Traceback (most recent call last)",
            "\u001b[0;32m<ipython-input-85-fb14a5b4d0ab>\u001b[0m in \u001b[0;36m<module>\u001b[0;34m()\u001b[0m\n\u001b[1;32m      2\u001b[0m \u001b[0mxgb_prediction\u001b[0m \u001b[0;34m=\u001b[0m \u001b[0mxgboost\u001b[0m\u001b[0;34m.\u001b[0m\u001b[0mpredict\u001b[0m\u001b[0;34m(\u001b[0m\u001b[0mX_train_sm\u001b[0m\u001b[0;34m)\u001b[0m\u001b[0;34m\u001b[0m\u001b[0;34m\u001b[0m\u001b[0m\n\u001b[1;32m      3\u001b[0m \u001b[0mprint\u001b[0m\u001b[0;34m(\u001b[0m\u001b[0;34m'F1 score on train set using XGBoost :'\u001b[0m\u001b[0;34m,\u001b[0m\u001b[0mf1_score\u001b[0m\u001b[0;34m(\u001b[0m\u001b[0my_train_sm\u001b[0m\u001b[0;34m,\u001b[0m\u001b[0mxgb_prediction\u001b[0m\u001b[0;34m)\u001b[0m\u001b[0;34m)\u001b[0m\u001b[0;34m\u001b[0m\u001b[0;34m\u001b[0m\u001b[0m\n\u001b[0;32m----> 4\u001b[0;31m \u001b[0my_prediction\u001b[0m \u001b[0;34m=\u001b[0m \u001b[0mxgboost\u001b[0m\u001b[0;34m.\u001b[0m\u001b[0mpredict\u001b[0m\u001b[0;34m(\u001b[0m\u001b[0mX_test\u001b[0m\u001b[0;34m)\u001b[0m\u001b[0;34m\u001b[0m\u001b[0;34m\u001b[0m\u001b[0m\n\u001b[0m\u001b[1;32m      5\u001b[0m \u001b[0mprint\u001b[0m\u001b[0;34m(\u001b[0m\u001b[0;34m'F1 score on train set using XG Boost :'\u001b[0m\u001b[0;34m,\u001b[0m\u001b[0mf1_score\u001b[0m\u001b[0;34m(\u001b[0m\u001b[0my_test\u001b[0m\u001b[0;34m,\u001b[0m\u001b[0my_prediction\u001b[0m\u001b[0;34m)\u001b[0m\u001b[0;34m)\u001b[0m\u001b[0;34m\u001b[0m\u001b[0;34m\u001b[0m\u001b[0m\n",
            "\u001b[0;32m/usr/local/lib/python3.7/dist-packages/xgboost/sklearn.py\u001b[0m in \u001b[0;36mpredict\u001b[0;34m(self, data, output_margin, ntree_limit, validate_features)\u001b[0m\n\u001b[1;32m    789\u001b[0m                                                  \u001b[0moutput_margin\u001b[0m\u001b[0;34m=\u001b[0m\u001b[0moutput_margin\u001b[0m\u001b[0;34m,\u001b[0m\u001b[0;34m\u001b[0m\u001b[0;34m\u001b[0m\u001b[0m\n\u001b[1;32m    790\u001b[0m                                                  \u001b[0mntree_limit\u001b[0m\u001b[0;34m=\u001b[0m\u001b[0mntree_limit\u001b[0m\u001b[0;34m,\u001b[0m\u001b[0;34m\u001b[0m\u001b[0;34m\u001b[0m\u001b[0m\n\u001b[0;32m--> 791\u001b[0;31m                                                  validate_features=validate_features)\n\u001b[0m\u001b[1;32m    792\u001b[0m         \u001b[0;32mif\u001b[0m \u001b[0moutput_margin\u001b[0m\u001b[0;34m:\u001b[0m\u001b[0;34m\u001b[0m\u001b[0;34m\u001b[0m\u001b[0m\n\u001b[1;32m    793\u001b[0m             \u001b[0;31m# If output_margin is active, simply return the scores\u001b[0m\u001b[0;34m\u001b[0m\u001b[0;34m\u001b[0m\u001b[0;34m\u001b[0m\u001b[0m\n",
            "\u001b[0;32m/usr/local/lib/python3.7/dist-packages/xgboost/core.py\u001b[0m in \u001b[0;36mpredict\u001b[0;34m(self, data, output_margin, ntree_limit, pred_leaf, pred_contribs, approx_contribs, pred_interactions, validate_features)\u001b[0m\n\u001b[1;32m   1282\u001b[0m \u001b[0;34m\u001b[0m\u001b[0m\n\u001b[1;32m   1283\u001b[0m         \u001b[0;32mif\u001b[0m \u001b[0mvalidate_features\u001b[0m\u001b[0;34m:\u001b[0m\u001b[0;34m\u001b[0m\u001b[0;34m\u001b[0m\u001b[0m\n\u001b[0;32m-> 1284\u001b[0;31m             \u001b[0mself\u001b[0m\u001b[0;34m.\u001b[0m\u001b[0m_validate_features\u001b[0m\u001b[0;34m(\u001b[0m\u001b[0mdata\u001b[0m\u001b[0;34m)\u001b[0m\u001b[0;34m\u001b[0m\u001b[0;34m\u001b[0m\u001b[0m\n\u001b[0m\u001b[1;32m   1285\u001b[0m \u001b[0;34m\u001b[0m\u001b[0m\n\u001b[1;32m   1286\u001b[0m         \u001b[0mlength\u001b[0m \u001b[0;34m=\u001b[0m \u001b[0mc_bst_ulong\u001b[0m\u001b[0;34m(\u001b[0m\u001b[0;34m)\u001b[0m\u001b[0;34m\u001b[0m\u001b[0;34m\u001b[0m\u001b[0m\n",
            "\u001b[0;32m/usr/local/lib/python3.7/dist-packages/xgboost/core.py\u001b[0m in \u001b[0;36m_validate_features\u001b[0;34m(self, data)\u001b[0m\n\u001b[1;32m   1688\u001b[0m \u001b[0;34m\u001b[0m\u001b[0m\n\u001b[1;32m   1689\u001b[0m                 raise ValueError(msg.format(self.feature_names,\n\u001b[0;32m-> 1690\u001b[0;31m                                             data.feature_names))\n\u001b[0m\u001b[1;32m   1691\u001b[0m \u001b[0;34m\u001b[0m\u001b[0m\n\u001b[1;32m   1692\u001b[0m     \u001b[0;32mdef\u001b[0m \u001b[0mget_split_value_histogram\u001b[0m\u001b[0;34m(\u001b[0m\u001b[0mself\u001b[0m\u001b[0;34m,\u001b[0m \u001b[0mfeature\u001b[0m\u001b[0;34m,\u001b[0m \u001b[0mfmap\u001b[0m\u001b[0;34m=\u001b[0m\u001b[0;34m''\u001b[0m\u001b[0;34m,\u001b[0m \u001b[0mbins\u001b[0m\u001b[0;34m=\u001b[0m\u001b[0;32mNone\u001b[0m\u001b[0;34m,\u001b[0m \u001b[0mas_pandas\u001b[0m\u001b[0;34m=\u001b[0m\u001b[0;32mTrue\u001b[0m\u001b[0;34m)\u001b[0m\u001b[0;34m:\u001b[0m\u001b[0;34m\u001b[0m\u001b[0;34m\u001b[0m\u001b[0m\n",
            "\u001b[0;31mValueError\u001b[0m: feature_names mismatch: ['f0', 'f1', 'f2', 'f3', 'f4', 'f5', 'f6', 'f7', 'f8', 'f9', 'f10', 'f11', 'f12', 'f13', 'f14', 'f15', 'f16', 'f17', 'f18', 'f19', 'f20', 'f21', 'f22', 'f23', 'f24', 'f25', 'f26', 'f27', 'f28'] ['Unnamed: 0', 'loan_id', 'source', 'financial_institution', 'interest_rate', 'unpaid_principal_bal', 'loan_term', 'origination_date', 'first_payment_date', 'loan_to_value', 'number_of_borrowers', 'debt_to_income_ratio', 'borrower_credit_score', 'loan_purpose', 'insurance_percent', 'co-borrower_credit_score', 'insurance_type', 'm1', 'm2', 'm3', 'm4', 'm5', 'm6', 'm7', 'm8', 'm9', 'm10', 'm11', 'm12']\nexpected f15, f20, f22, f19, f18, f28, f0, f2, f5, f27, f1, f11, f4, f16, f9, f26, f25, f10, f24, f3, f17, f21, f6, f13, f12, f23, f14, f7, f8 in input data\ntraining data did not have the following fields: loan_purpose, m9, loan_to_value, interest_rate, first_payment_date, m1, insurance_type, number_of_borrowers, m3, co-borrower_credit_score, m12, loan_id, loan_term, m2, m6, source, m7, financial_institution, debt_to_income_ratio, m11, insurance_percent, Unnamed: 0, m8, origination_date, m10, m5, unpaid_principal_bal, borrower_credit_score, m4"
          ]
        }
      ]
    },
    {
      "cell_type": "markdown",
      "metadata": {
        "id": "fGQQXeg3XOPp"
      },
      "source": [
        "## Feature Selection"
      ]
    },
    {
      "cell_type": "code",
      "metadata": {
        "colab": {
          "base_uri": "https://localhost:8080/",
          "height": 611
        },
        "id": "5DVcXN5QXP6R",
        "outputId": "4a76674e-6df2-471f-867c-e05a19a384b5"
      },
      "source": [
        "feats = {} # a dict to hold feature_name: feature_importance\r\n",
        "for feature, importance in zip(X_train.columns, rfc.feature_importances_):\r\n",
        "    feats[feature] = importance #add the name/value pair \r\n",
        "\r\n",
        "importances = pd.DataFrame.from_dict(feats, orient='index').rename(columns={0: 'Gini-importance'})\r\n",
        "#plt.figure(figsize=(15,7))\r\n",
        "importances.sort_values(by='Gini-importance').plot(kind='barh',figsize=(10,10))"
      ],
      "execution_count": 87,
      "outputs": [
        {
          "output_type": "execute_result",
          "data": {
            "text/plain": [
              "<matplotlib.axes._subplots.AxesSubplot at 0x7fb73774ef50>"
            ]
          },
          "metadata": {
            "tags": []
          },
          "execution_count": 87
        },
        {
          "output_type": "display_data",
          "data": {
            "image/png": "[encoded data removed]",
            "text/plain": [
              "<Figure size 720x720 with 1 Axes>"
            ]
          },
          "metadata": {
            "tags": []
          }
        }
      ]
    },
    {
      "cell_type": "markdown",
      "metadata": {
        "id": "IBur2meSXcLM"
      },
      "source": [
        "## Model Selection"
      ]
    },
    {
      "cell_type": "code",
      "metadata": {
        "colab": {
          "base_uri": "https://localhost:8080/",
          "height": 239
        },
        "id": "M0nUIwDiXo9l",
        "outputId": "d4a6dd10-9c99-4362-c09d-5e556f885b0b"
      },
      "source": [
        "df_test.head()"
      ],
      "execution_count": 88,
      "outputs": [
        {
          "output_type": "execute_result",
          "data": {
            "text/html": [
              "<div>\n",
              "<style scoped>\n",
              "    .dataframe tbody tr th:only-of-type {\n",
              "        vertical-align: middle;\n",
              "    }\n",
              "\n",
              "    .dataframe tbody tr th {\n",
              "        vertical-align: top;\n",
              "    }\n",
              "\n",
              "    .dataframe thead th {\n",
              "        text-align: right;\n",
              "    }\n",
              "</style>\n",
              "<table border=\"1\" class=\"dataframe\">\n",
              "  <thead>\n",
              "    <tr style=\"text-align: right;\">\n",
              "      <th></th>\n",
              "      <th>Unnamed: 0</th>\n",
              "      <th>loan_id</th>\n",
              "      <th>source</th>\n",
              "      <th>financial_institution</th>\n",
              "      <th>interest_rate</th>\n",
              "      <th>unpaid_principal_bal</th>\n",
              "      <th>loan_term</th>\n",
              "      <th>origination_date</th>\n",
              "      <th>first_payment_date</th>\n",
              "      <th>loan_to_value</th>\n",
              "      <th>number_of_borrowers</th>\n",
              "      <th>debt_to_income_ratio</th>\n",
              "      <th>borrower_credit_score</th>\n",
              "      <th>loan_purpose</th>\n",
              "      <th>insurance_percent</th>\n",
              "      <th>co-borrower_credit_score</th>\n",
              "      <th>insurance_type</th>\n",
              "      <th>m1</th>\n",
              "      <th>m2</th>\n",
              "      <th>m3</th>\n",
              "      <th>m4</th>\n",
              "      <th>m5</th>\n",
              "      <th>m6</th>\n",
              "      <th>m7</th>\n",
              "      <th>m8</th>\n",
              "      <th>m9</th>\n",
              "      <th>m10</th>\n",
              "      <th>m11</th>\n",
              "      <th>m12</th>\n",
              "    </tr>\n",
              "  </thead>\n",
              "  <tbody>\n",
              "    <tr>\n",
              "      <th>0</th>\n",
              "      <td>68426</td>\n",
              "      <td>780423564300</td>\n",
              "      <td>X</td>\n",
              "      <td>OTHER</td>\n",
              "      <td>3.375</td>\n",
              "      <td>144000</td>\n",
              "      <td>180</td>\n",
              "      <td>2012-01-01</td>\n",
              "      <td>03/2012</td>\n",
              "      <td>73</td>\n",
              "      <td>2.0</td>\n",
              "      <td>20.0</td>\n",
              "      <td>790.0</td>\n",
              "      <td>A23</td>\n",
              "      <td>0.0</td>\n",
              "      <td>797.0</td>\n",
              "      <td>0.0</td>\n",
              "      <td>0</td>\n",
              "      <td>0</td>\n",
              "      <td>0</td>\n",
              "      <td>0</td>\n",
              "      <td>0</td>\n",
              "      <td>0</td>\n",
              "      <td>0</td>\n",
              "      <td>0</td>\n",
              "      <td>0</td>\n",
              "      <td>0</td>\n",
              "      <td>0</td>\n",
              "      <td>0</td>\n",
              "    </tr>\n",
              "    <tr>\n",
              "      <th>1</th>\n",
              "      <td>49544</td>\n",
              "      <td>472138003270</td>\n",
              "      <td>Y</td>\n",
              "      <td>Browning-Hart</td>\n",
              "      <td>4.375</td>\n",
              "      <td>110000</td>\n",
              "      <td>360</td>\n",
              "      <td>2012-01-01</td>\n",
              "      <td>03/2012</td>\n",
              "      <td>88</td>\n",
              "      <td>1.0</td>\n",
              "      <td>45.0</td>\n",
              "      <td>779.0</td>\n",
              "      <td>C86</td>\n",
              "      <td>25.0</td>\n",
              "      <td>0.0</td>\n",
              "      <td>0.0</td>\n",
              "      <td>0</td>\n",
              "      <td>0</td>\n",
              "      <td>0</td>\n",
              "      <td>0</td>\n",
              "      <td>0</td>\n",
              "      <td>0</td>\n",
              "      <td>0</td>\n",
              "      <td>0</td>\n",
              "      <td>0</td>\n",
              "      <td>0</td>\n",
              "      <td>0</td>\n",
              "      <td>0</td>\n",
              "    </tr>\n",
              "    <tr>\n",
              "      <th>2</th>\n",
              "      <td>96751</td>\n",
              "      <td>233667097068</td>\n",
              "      <td>X</td>\n",
              "      <td>Browning-Hart</td>\n",
              "      <td>4.125</td>\n",
              "      <td>243000</td>\n",
              "      <td>240</td>\n",
              "      <td>2012-02-01</td>\n",
              "      <td>04/2012</td>\n",
              "      <td>70</td>\n",
              "      <td>2.0</td>\n",
              "      <td>40.0</td>\n",
              "      <td>727.0</td>\n",
              "      <td>B12</td>\n",
              "      <td>0.0</td>\n",
              "      <td>705.0</td>\n",
              "      <td>0.0</td>\n",
              "      <td>0</td>\n",
              "      <td>0</td>\n",
              "      <td>0</td>\n",
              "      <td>0</td>\n",
              "      <td>0</td>\n",
              "      <td>0</td>\n",
              "      <td>0</td>\n",
              "      <td>0</td>\n",
              "      <td>0</td>\n",
              "      <td>0</td>\n",
              "      <td>0</td>\n",
              "      <td>0</td>\n",
              "    </tr>\n",
              "    <tr>\n",
              "      <th>3</th>\n",
              "      <td>112058</td>\n",
              "      <td>117580972208</td>\n",
              "      <td>X</td>\n",
              "      <td>OTHER</td>\n",
              "      <td>2.875</td>\n",
              "      <td>189000</td>\n",
              "      <td>120</td>\n",
              "      <td>2012-03-01</td>\n",
              "      <td>05/2012</td>\n",
              "      <td>64</td>\n",
              "      <td>2.0</td>\n",
              "      <td>35.0</td>\n",
              "      <td>798.0</td>\n",
              "      <td>A23</td>\n",
              "      <td>0.0</td>\n",
              "      <td>793.0</td>\n",
              "      <td>0.0</td>\n",
              "      <td>0</td>\n",
              "      <td>0</td>\n",
              "      <td>0</td>\n",
              "      <td>0</td>\n",
              "      <td>0</td>\n",
              "      <td>0</td>\n",
              "      <td>0</td>\n",
              "      <td>0</td>\n",
              "      <td>0</td>\n",
              "      <td>0</td>\n",
              "      <td>0</td>\n",
              "      <td>0</td>\n",
              "    </tr>\n",
              "    <tr>\n",
              "      <th>4</th>\n",
              "      <td>85610</td>\n",
              "      <td>440010429529</td>\n",
              "      <td>Z</td>\n",
              "      <td>OTHER</td>\n",
              "      <td>4.000</td>\n",
              "      <td>141000</td>\n",
              "      <td>360</td>\n",
              "      <td>2012-03-01</td>\n",
              "      <td>05/2012</td>\n",
              "      <td>84</td>\n",
              "      <td>2.0</td>\n",
              "      <td>31.0</td>\n",
              "      <td>819.0</td>\n",
              "      <td>A23</td>\n",
              "      <td>12.0</td>\n",
              "      <td>799.0</td>\n",
              "      <td>0.0</td>\n",
              "      <td>0</td>\n",
              "      <td>0</td>\n",
              "      <td>0</td>\n",
              "      <td>0</td>\n",
              "      <td>0</td>\n",
              "      <td>0</td>\n",
              "      <td>0</td>\n",
              "      <td>0</td>\n",
              "      <td>0</td>\n",
              "      <td>0</td>\n",
              "      <td>0</td>\n",
              "      <td>0</td>\n",
              "    </tr>\n",
              "  </tbody>\n",
              "</table>\n",
              "</div>"
            ],
            "text/plain": [
              "   Unnamed: 0       loan_id source financial_institution  ...  m9  m10  m11 m12\n",
              "0       68426  780423564300      X                 OTHER  ...   0    0    0   0\n",
              "1       49544  472138003270      Y         Browning-Hart  ...   0    0    0   0\n",
              "2       96751  233667097068      X         Browning-Hart  ...   0    0    0   0\n",
              "3      112058  117580972208      X                 OTHER  ...   0    0    0   0\n",
              "4       85610  440010429529      Z                 OTHER  ...   0    0    0   0\n",
              "\n",
              "[5 rows x 29 columns]"
            ]
          },
          "metadata": {
            "tags": []
          },
          "execution_count": 88
        }
      ]
    },
    {
      "cell_type": "code",
      "metadata": {
        "colab": {
          "base_uri": "https://localhost:8080/",
          "height": 171
        },
        "id": "g6kxPoNAXxUc",
        "outputId": "08c842e3-1daa-4d57-8e72-160427638a4d"
      },
      "source": [
        "df_test.describe(include=object)"
      ],
      "execution_count": 89,
      "outputs": [
        {
          "output_type": "execute_result",
          "data": {
            "text/html": [
              "<div>\n",
              "<style scoped>\n",
              "    .dataframe tbody tr th:only-of-type {\n",
              "        vertical-align: middle;\n",
              "    }\n",
              "\n",
              "    .dataframe tbody tr th {\n",
              "        vertical-align: top;\n",
              "    }\n",
              "\n",
              "    .dataframe thead th {\n",
              "        text-align: right;\n",
              "    }\n",
              "</style>\n",
              "<table border=\"1\" class=\"dataframe\">\n",
              "  <thead>\n",
              "    <tr style=\"text-align: right;\">\n",
              "      <th></th>\n",
              "      <th>source</th>\n",
              "      <th>financial_institution</th>\n",
              "      <th>origination_date</th>\n",
              "      <th>first_payment_date</th>\n",
              "      <th>loan_purpose</th>\n",
              "    </tr>\n",
              "  </thead>\n",
              "  <tbody>\n",
              "    <tr>\n",
              "      <th>count</th>\n",
              "      <td>23212</td>\n",
              "      <td>23212</td>\n",
              "      <td>23212</td>\n",
              "      <td>23212</td>\n",
              "      <td>23212</td>\n",
              "    </tr>\n",
              "    <tr>\n",
              "      <th>unique</th>\n",
              "      <td>3</td>\n",
              "      <td>19</td>\n",
              "      <td>3</td>\n",
              "      <td>4</td>\n",
              "      <td>3</td>\n",
              "    </tr>\n",
              "    <tr>\n",
              "      <th>top</th>\n",
              "      <td>X</td>\n",
              "      <td>OTHER</td>\n",
              "      <td>2012-02-01</td>\n",
              "      <td>04/2012</td>\n",
              "      <td>A23</td>\n",
              "    </tr>\n",
              "    <tr>\n",
              "      <th>freq</th>\n",
              "      <td>12791</td>\n",
              "      <td>9933</td>\n",
              "      <td>10383</td>\n",
              "      <td>10558</td>\n",
              "      <td>11642</td>\n",
              "    </tr>\n",
              "  </tbody>\n",
              "</table>\n",
              "</div>"
            ],
            "text/plain": [
              "       source financial_institution  ... first_payment_date loan_purpose\n",
              "count   23212                 23212  ...              23212        23212\n",
              "unique      3                    19  ...                  4            3\n",
              "top         X                 OTHER  ...            04/2012          A23\n",
              "freq    12791                  9933  ...              10558        11642\n",
              "\n",
              "[4 rows x 5 columns]"
            ]
          },
          "metadata": {
            "tags": []
          },
          "execution_count": 89
        }
      ]
    },
    {
      "cell_type": "code",
      "metadata": {
        "colab": {
          "base_uri": "https://localhost:8080/",
          "height": 381
        },
        "id": "0nRp3PezXxXq",
        "outputId": "d9990c26-3717-4a7d-81f9-6cc46cd516a8"
      },
      "source": [
        "df_test.source = le.fit_transform(df_test.source)\r\n",
        "df_test.loan_purpose = le.fit_transform(df_test.loan_purpose)\r\n",
        "df_test.financial_institution = le.fit_transform(df_test.financial_institution)\r\n",
        "df_test.origination_date = df_test['origination_date'].str.split('-').str[1]\r\n",
        "df_test.origination_date = df_test.origination_date.astype(int)\r\n",
        "df_test.first_payment_date = pd.to_datetime(df_test.first_payment_date, format ='%m/%Y' ).dt.month"
      ],
      "execution_count": 91,
      "outputs": [
        {
          "output_type": "error",
          "ename": "AttributeError",
          "evalue": "ignored",
          "traceback": [
            "\u001b[0;31m---------------------------------------------------------------------------\u001b[0m",
            "\u001b[0;31mAttributeError\u001b[0m                            Traceback (most recent call last)",
            "\u001b[0;32m<ipython-input-91-b4a0f4da882b>\u001b[0m in \u001b[0;36m<module>\u001b[0;34m()\u001b[0m\n\u001b[1;32m      2\u001b[0m \u001b[0mdf_test\u001b[0m\u001b[0;34m.\u001b[0m\u001b[0mloan_purpose\u001b[0m \u001b[0;34m=\u001b[0m \u001b[0mle\u001b[0m\u001b[0;34m.\u001b[0m\u001b[0mfit_transform\u001b[0m\u001b[0;34m(\u001b[0m\u001b[0mdf_test\u001b[0m\u001b[0;34m.\u001b[0m\u001b[0mloan_purpose\u001b[0m\u001b[0;34m)\u001b[0m\u001b[0;34m\u001b[0m\u001b[0;34m\u001b[0m\u001b[0m\n\u001b[1;32m      3\u001b[0m \u001b[0mdf_test\u001b[0m\u001b[0;34m.\u001b[0m\u001b[0mfinancial_institution\u001b[0m \u001b[0;34m=\u001b[0m \u001b[0mle\u001b[0m\u001b[0;34m.\u001b[0m\u001b[0mfit_transform\u001b[0m\u001b[0;34m(\u001b[0m\u001b[0mdf_test\u001b[0m\u001b[0;34m.\u001b[0m\u001b[0mfinancial_institution\u001b[0m\u001b[0;34m)\u001b[0m\u001b[0;34m\u001b[0m\u001b[0;34m\u001b[0m\u001b[0m\n\u001b[0;32m----> 4\u001b[0;31m \u001b[0mdf_test\u001b[0m\u001b[0;34m.\u001b[0m\u001b[0morigination_date\u001b[0m \u001b[0;34m=\u001b[0m \u001b[0mdf_test\u001b[0m\u001b[0;34m[\u001b[0m\u001b[0;34m'origination_date'\u001b[0m\u001b[0;34m]\u001b[0m\u001b[0;34m.\u001b[0m\u001b[0mstr\u001b[0m\u001b[0;34m.\u001b[0m\u001b[0msplit\u001b[0m\u001b[0;34m(\u001b[0m\u001b[0;34m'-'\u001b[0m\u001b[0;34m)\u001b[0m\u001b[0;34m.\u001b[0m\u001b[0mstr\u001b[0m\u001b[0;34m[\u001b[0m\u001b[0;36m1\u001b[0m\u001b[0;34m]\u001b[0m\u001b[0;34m\u001b[0m\u001b[0;34m\u001b[0m\u001b[0m\n\u001b[0m\u001b[1;32m      5\u001b[0m \u001b[0mdf_test\u001b[0m\u001b[0;34m.\u001b[0m\u001b[0morigination_date\u001b[0m \u001b[0;34m=\u001b[0m \u001b[0mdf_test\u001b[0m\u001b[0;34m.\u001b[0m\u001b[0morigination_date\u001b[0m\u001b[0;34m.\u001b[0m\u001b[0mastype\u001b[0m\u001b[0;34m(\u001b[0m\u001b[0mint\u001b[0m\u001b[0;34m)\u001b[0m\u001b[0;34m\u001b[0m\u001b[0;34m\u001b[0m\u001b[0m\n\u001b[1;32m      6\u001b[0m \u001b[0mdf_test\u001b[0m\u001b[0;34m.\u001b[0m\u001b[0mfirst_payment_date\u001b[0m \u001b[0;34m=\u001b[0m \u001b[0mpd\u001b[0m\u001b[0;34m.\u001b[0m\u001b[0mto_datetime\u001b[0m\u001b[0;34m(\u001b[0m\u001b[0mdf_test\u001b[0m\u001b[0;34m.\u001b[0m\u001b[0mfirst_payment_date\u001b[0m\u001b[0;34m,\u001b[0m \u001b[0mformat\u001b[0m \u001b[0;34m=\u001b[0m\u001b[0;34m'%m/%Y'\u001b[0m \u001b[0;34m)\u001b[0m\u001b[0;34m.\u001b[0m\u001b[0mdt\u001b[0m\u001b[0;34m.\u001b[0m\u001b[0mmonth\u001b[0m\u001b[0;34m\u001b[0m\u001b[0;34m\u001b[0m\u001b[0m\n",
            "\u001b[0;32m/usr/local/lib/python3.7/dist-packages/pandas/core/generic.py\u001b[0m in \u001b[0;36m__getattr__\u001b[0;34m(self, name)\u001b[0m\n\u001b[1;32m   5135\u001b[0m             \u001b[0;32mor\u001b[0m \u001b[0mname\u001b[0m \u001b[0;32min\u001b[0m \u001b[0mself\u001b[0m\u001b[0;34m.\u001b[0m\u001b[0m_accessors\u001b[0m\u001b[0;34m\u001b[0m\u001b[0;34m\u001b[0m\u001b[0m\n\u001b[1;32m   5136\u001b[0m         ):\n\u001b[0;32m-> 5137\u001b[0;31m             \u001b[0;32mreturn\u001b[0m \u001b[0mobject\u001b[0m\u001b[0;34m.\u001b[0m\u001b[0m__getattribute__\u001b[0m\u001b[0;34m(\u001b[0m\u001b[0mself\u001b[0m\u001b[0;34m,\u001b[0m \u001b[0mname\u001b[0m\u001b[0;34m)\u001b[0m\u001b[0;34m\u001b[0m\u001b[0;34m\u001b[0m\u001b[0m\n\u001b[0m\u001b[1;32m   5138\u001b[0m         \u001b[0;32melse\u001b[0m\u001b[0;34m:\u001b[0m\u001b[0;34m\u001b[0m\u001b[0;34m\u001b[0m\u001b[0m\n\u001b[1;32m   5139\u001b[0m             \u001b[0;32mif\u001b[0m \u001b[0mself\u001b[0m\u001b[0;34m.\u001b[0m\u001b[0m_info_axis\u001b[0m\u001b[0;34m.\u001b[0m\u001b[0m_can_hold_identifiers_and_holds_name\u001b[0m\u001b[0;34m(\u001b[0m\u001b[0mname\u001b[0m\u001b[0;34m)\u001b[0m\u001b[0;34m:\u001b[0m\u001b[0;34m\u001b[0m\u001b[0;34m\u001b[0m\u001b[0m\n",
            "\u001b[0;32m/usr/local/lib/python3.7/dist-packages/pandas/core/accessor.py\u001b[0m in \u001b[0;36m__get__\u001b[0;34m(self, obj, cls)\u001b[0m\n\u001b[1;32m    185\u001b[0m             \u001b[0;31m# we're accessing the attribute of the class, i.e., Dataset.geo\u001b[0m\u001b[0;34m\u001b[0m\u001b[0;34m\u001b[0m\u001b[0;34m\u001b[0m\u001b[0m\n\u001b[1;32m    186\u001b[0m             \u001b[0;32mreturn\u001b[0m \u001b[0mself\u001b[0m\u001b[0;34m.\u001b[0m\u001b[0m_accessor\u001b[0m\u001b[0;34m\u001b[0m\u001b[0;34m\u001b[0m\u001b[0m\n\u001b[0;32m--> 187\u001b[0;31m         \u001b[0maccessor_obj\u001b[0m \u001b[0;34m=\u001b[0m \u001b[0mself\u001b[0m\u001b[0;34m.\u001b[0m\u001b[0m_accessor\u001b[0m\u001b[0;34m(\u001b[0m\u001b[0mobj\u001b[0m\u001b[0;34m)\u001b[0m\u001b[0;34m\u001b[0m\u001b[0;34m\u001b[0m\u001b[0m\n\u001b[0m\u001b[1;32m    188\u001b[0m         \u001b[0;31m# Replace the property with the accessor object. Inspired by:\u001b[0m\u001b[0;34m\u001b[0m\u001b[0;34m\u001b[0m\u001b[0;34m\u001b[0m\u001b[0m\n\u001b[1;32m    189\u001b[0m         \u001b[0;31m# https://www.pydanny.com/cached-property.html\u001b[0m\u001b[0;34m\u001b[0m\u001b[0;34m\u001b[0m\u001b[0;34m\u001b[0m\u001b[0m\n",
            "\u001b[0;32m/usr/local/lib/python3.7/dist-packages/pandas/core/strings.py\u001b[0m in \u001b[0;36m__init__\u001b[0;34m(self, data)\u001b[0m\n\u001b[1;32m   2098\u001b[0m \u001b[0;34m\u001b[0m\u001b[0m\n\u001b[1;32m   2099\u001b[0m     \u001b[0;32mdef\u001b[0m \u001b[0m__init__\u001b[0m\u001b[0;34m(\u001b[0m\u001b[0mself\u001b[0m\u001b[0;34m,\u001b[0m \u001b[0mdata\u001b[0m\u001b[0;34m)\u001b[0m\u001b[0;34m:\u001b[0m\u001b[0;34m\u001b[0m\u001b[0;34m\u001b[0m\u001b[0m\n\u001b[0;32m-> 2100\u001b[0;31m         \u001b[0mself\u001b[0m\u001b[0;34m.\u001b[0m\u001b[0m_inferred_dtype\u001b[0m \u001b[0;34m=\u001b[0m \u001b[0mself\u001b[0m\u001b[0;34m.\u001b[0m\u001b[0m_validate\u001b[0m\u001b[0;34m(\u001b[0m\u001b[0mdata\u001b[0m\u001b[0;34m)\u001b[0m\u001b[0;34m\u001b[0m\u001b[0;34m\u001b[0m\u001b[0m\n\u001b[0m\u001b[1;32m   2101\u001b[0m         \u001b[0mself\u001b[0m\u001b[0;34m.\u001b[0m\u001b[0m_is_categorical\u001b[0m \u001b[0;34m=\u001b[0m \u001b[0mis_categorical_dtype\u001b[0m\u001b[0;34m(\u001b[0m\u001b[0mdata\u001b[0m\u001b[0;34m.\u001b[0m\u001b[0mdtype\u001b[0m\u001b[0;34m)\u001b[0m\u001b[0;34m\u001b[0m\u001b[0;34m\u001b[0m\u001b[0m\n\u001b[1;32m   2102\u001b[0m         \u001b[0mself\u001b[0m\u001b[0;34m.\u001b[0m\u001b[0m_is_string\u001b[0m \u001b[0;34m=\u001b[0m \u001b[0mdata\u001b[0m\u001b[0;34m.\u001b[0m\u001b[0mdtype\u001b[0m\u001b[0;34m.\u001b[0m\u001b[0mname\u001b[0m \u001b[0;34m==\u001b[0m \u001b[0;34m\"string\"\u001b[0m\u001b[0;34m\u001b[0m\u001b[0;34m\u001b[0m\u001b[0m\n",
            "\u001b[0;32m/usr/local/lib/python3.7/dist-packages/pandas/core/strings.py\u001b[0m in \u001b[0;36m_validate\u001b[0;34m(data)\u001b[0m\n\u001b[1;32m   2155\u001b[0m \u001b[0;34m\u001b[0m\u001b[0m\n\u001b[1;32m   2156\u001b[0m         \u001b[0;32mif\u001b[0m \u001b[0minferred_dtype\u001b[0m \u001b[0;32mnot\u001b[0m \u001b[0;32min\u001b[0m \u001b[0mallowed_types\u001b[0m\u001b[0;34m:\u001b[0m\u001b[0;34m\u001b[0m\u001b[0;34m\u001b[0m\u001b[0m\n\u001b[0;32m-> 2157\u001b[0;31m             \u001b[0;32mraise\u001b[0m \u001b[0mAttributeError\u001b[0m\u001b[0;34m(\u001b[0m\u001b[0;34m\"Can only use .str accessor with string values!\"\u001b[0m\u001b[0;34m)\u001b[0m\u001b[0;34m\u001b[0m\u001b[0;34m\u001b[0m\u001b[0m\n\u001b[0m\u001b[1;32m   2158\u001b[0m         \u001b[0;32mreturn\u001b[0m \u001b[0minferred_dtype\u001b[0m\u001b[0;34m\u001b[0m\u001b[0;34m\u001b[0m\u001b[0m\n\u001b[1;32m   2159\u001b[0m \u001b[0;34m\u001b[0m\u001b[0m\n",
            "\u001b[0;31mAttributeError\u001b[0m: Can only use .str accessor with string values!"
          ]
        }
      ]
    },
    {
      "cell_type": "code",
      "metadata": {
        "colab": {
          "base_uri": "https://localhost:8080/",
          "height": 329
        },
        "id": "JbkmDgUiXxaZ",
        "outputId": "ee0984ba-f6b4-498d-bf22-b65fe0e5cb2f"
      },
      "source": [
        "df_test.describe(include=object)\r\n"
      ],
      "execution_count": 92,
      "outputs": [
        {
          "output_type": "error",
          "ename": "ValueError",
          "evalue": "ignored",
          "traceback": [
            "\u001b[0;31m---------------------------------------------------------------------------\u001b[0m",
            "\u001b[0;31mValueError\u001b[0m                                Traceback (most recent call last)",
            "\u001b[0;32m<ipython-input-92-085d0eb2bcc0>\u001b[0m in \u001b[0;36m<module>\u001b[0;34m()\u001b[0m\n\u001b[0;32m----> 1\u001b[0;31m \u001b[0mdf_test\u001b[0m\u001b[0;34m.\u001b[0m\u001b[0mdescribe\u001b[0m\u001b[0;34m(\u001b[0m\u001b[0minclude\u001b[0m\u001b[0;34m=\u001b[0m\u001b[0mobject\u001b[0m\u001b[0;34m)\u001b[0m\u001b[0;34m\u001b[0m\u001b[0;34m\u001b[0m\u001b[0m\n\u001b[0m",
            "\u001b[0;32m/usr/local/lib/python3.7/dist-packages/pandas/core/generic.py\u001b[0m in \u001b[0;36mdescribe\u001b[0;34m(self, percentiles, include, exclude, datetime_is_numeric)\u001b[0m\n\u001b[1;32m  10111\u001b[0m                     \u001b[0mnames\u001b[0m\u001b[0;34m.\u001b[0m\u001b[0mappend\u001b[0m\u001b[0;34m(\u001b[0m\u001b[0mname\u001b[0m\u001b[0;34m)\u001b[0m\u001b[0;34m\u001b[0m\u001b[0;34m\u001b[0m\u001b[0m\n\u001b[1;32m  10112\u001b[0m \u001b[0;34m\u001b[0m\u001b[0m\n\u001b[0;32m> 10113\u001b[0;31m         \u001b[0md\u001b[0m \u001b[0;34m=\u001b[0m \u001b[0mpd\u001b[0m\u001b[0;34m.\u001b[0m\u001b[0mconcat\u001b[0m\u001b[0;34m(\u001b[0m\u001b[0;34m[\u001b[0m\u001b[0mx\u001b[0m\u001b[0;34m.\u001b[0m\u001b[0mreindex\u001b[0m\u001b[0;34m(\u001b[0m\u001b[0mnames\u001b[0m\u001b[0;34m,\u001b[0m \u001b[0mcopy\u001b[0m\u001b[0;34m=\u001b[0m\u001b[0;32mFalse\u001b[0m\u001b[0;34m)\u001b[0m \u001b[0;32mfor\u001b[0m \u001b[0mx\u001b[0m \u001b[0;32min\u001b[0m \u001b[0mldesc\u001b[0m\u001b[0;34m]\u001b[0m\u001b[0;34m,\u001b[0m \u001b[0maxis\u001b[0m\u001b[0;34m=\u001b[0m\u001b[0;36m1\u001b[0m\u001b[0;34m,\u001b[0m \u001b[0msort\u001b[0m\u001b[0;34m=\u001b[0m\u001b[0;32mFalse\u001b[0m\u001b[0;34m)\u001b[0m\u001b[0;34m\u001b[0m\u001b[0;34m\u001b[0m\u001b[0m\n\u001b[0m\u001b[1;32m  10114\u001b[0m         \u001b[0md\u001b[0m\u001b[0;34m.\u001b[0m\u001b[0mcolumns\u001b[0m \u001b[0;34m=\u001b[0m \u001b[0mdata\u001b[0m\u001b[0;34m.\u001b[0m\u001b[0mcolumns\u001b[0m\u001b[0;34m.\u001b[0m\u001b[0mcopy\u001b[0m\u001b[0;34m(\u001b[0m\u001b[0;34m)\u001b[0m\u001b[0;34m\u001b[0m\u001b[0;34m\u001b[0m\u001b[0m\n\u001b[1;32m  10115\u001b[0m         \u001b[0;32mreturn\u001b[0m \u001b[0md\u001b[0m\u001b[0;34m\u001b[0m\u001b[0;34m\u001b[0m\u001b[0m\n",
            "\u001b[0;32m/usr/local/lib/python3.7/dist-packages/pandas/core/reshape/concat.py\u001b[0m in \u001b[0;36mconcat\u001b[0;34m(objs, axis, join, ignore_index, keys, levels, names, verify_integrity, sort, copy)\u001b[0m\n\u001b[1;32m    282\u001b[0m         \u001b[0mverify_integrity\u001b[0m\u001b[0;34m=\u001b[0m\u001b[0mverify_integrity\u001b[0m\u001b[0;34m,\u001b[0m\u001b[0;34m\u001b[0m\u001b[0;34m\u001b[0m\u001b[0m\n\u001b[1;32m    283\u001b[0m         \u001b[0mcopy\u001b[0m\u001b[0;34m=\u001b[0m\u001b[0mcopy\u001b[0m\u001b[0;34m,\u001b[0m\u001b[0;34m\u001b[0m\u001b[0;34m\u001b[0m\u001b[0m\n\u001b[0;32m--> 284\u001b[0;31m         \u001b[0msort\u001b[0m\u001b[0;34m=\u001b[0m\u001b[0msort\u001b[0m\u001b[0;34m,\u001b[0m\u001b[0;34m\u001b[0m\u001b[0;34m\u001b[0m\u001b[0m\n\u001b[0m\u001b[1;32m    285\u001b[0m     )\n\u001b[1;32m    286\u001b[0m \u001b[0;34m\u001b[0m\u001b[0m\n",
            "\u001b[0;32m/usr/local/lib/python3.7/dist-packages/pandas/core/reshape/concat.py\u001b[0m in \u001b[0;36m__init__\u001b[0;34m(self, objs, axis, join, keys, levels, names, ignore_index, verify_integrity, copy, sort)\u001b[0m\n\u001b[1;32m    329\u001b[0m \u001b[0;34m\u001b[0m\u001b[0m\n\u001b[1;32m    330\u001b[0m         \u001b[0;32mif\u001b[0m \u001b[0mlen\u001b[0m\u001b[0;34m(\u001b[0m\u001b[0mobjs\u001b[0m\u001b[0;34m)\u001b[0m \u001b[0;34m==\u001b[0m \u001b[0;36m0\u001b[0m\u001b[0;34m:\u001b[0m\u001b[0;34m\u001b[0m\u001b[0;34m\u001b[0m\u001b[0m\n\u001b[0;32m--> 331\u001b[0;31m             \u001b[0;32mraise\u001b[0m \u001b[0mValueError\u001b[0m\u001b[0;34m(\u001b[0m\u001b[0;34m\"No objects to concatenate\"\u001b[0m\u001b[0;34m)\u001b[0m\u001b[0;34m\u001b[0m\u001b[0;34m\u001b[0m\u001b[0m\n\u001b[0m\u001b[1;32m    332\u001b[0m \u001b[0;34m\u001b[0m\u001b[0m\n\u001b[1;32m    333\u001b[0m         \u001b[0;32mif\u001b[0m \u001b[0mkeys\u001b[0m \u001b[0;32mis\u001b[0m \u001b[0;32mNone\u001b[0m\u001b[0;34m:\u001b[0m\u001b[0;34m\u001b[0m\u001b[0;34m\u001b[0m\u001b[0m\n",
            "\u001b[0;31mValueError\u001b[0m: No objects to concatenate"
          ]
        }
      ]
    },
    {
      "cell_type": "code",
      "metadata": {
        "id": "m31bHb-LXxeL"
      },
      "source": [
        "prediction = rfc.predict(df_test)"
      ],
      "execution_count": 96,
      "outputs": []
    },
    {
      "cell_type": "code",
      "metadata": {
        "id": "zfFeCYqaZ_SN"
      },
      "source": [
        "submission_file = pd.DataFrame(prediction,columns = ['m13' ])"
      ],
      "execution_count": 98,
      "outputs": []
    },
    {
      "cell_type": "code",
      "metadata": {
        "colab": {
          "base_uri": "https://localhost:8080/",
          "height": 202
        },
        "id": "-Qn5D8hLahdf",
        "outputId": "0710a6fd-5351-49f2-e37d-25290676afa3"
      },
      "source": [
        "#submission_file.set_index('m13', inplace=True)\r\n",
        "submission_file.head()"
      ],
      "execution_count": 99,
      "outputs": [
        {
          "output_type": "execute_result",
          "data": {
            "text/html": [
              "<div>\n",
              "<style scoped>\n",
              "    .dataframe tbody tr th:only-of-type {\n",
              "        vertical-align: middle;\n",
              "    }\n",
              "\n",
              "    .dataframe tbody tr th {\n",
              "        vertical-align: top;\n",
              "    }\n",
              "\n",
              "    .dataframe thead th {\n",
              "        text-align: right;\n",
              "    }\n",
              "</style>\n",
              "<table border=\"1\" class=\"dataframe\">\n",
              "  <thead>\n",
              "    <tr style=\"text-align: right;\">\n",
              "      <th></th>\n",
              "      <th>m13</th>\n",
              "    </tr>\n",
              "  </thead>\n",
              "  <tbody>\n",
              "    <tr>\n",
              "      <th>0</th>\n",
              "      <td>0</td>\n",
              "    </tr>\n",
              "    <tr>\n",
              "      <th>1</th>\n",
              "      <td>0</td>\n",
              "    </tr>\n",
              "    <tr>\n",
              "      <th>2</th>\n",
              "      <td>0</td>\n",
              "    </tr>\n",
              "    <tr>\n",
              "      <th>3</th>\n",
              "      <td>0</td>\n",
              "    </tr>\n",
              "    <tr>\n",
              "      <th>4</th>\n",
              "      <td>0</td>\n",
              "    </tr>\n",
              "  </tbody>\n",
              "</table>\n",
              "</div>"
            ],
            "text/plain": [
              "   m13\n",
              "0    0\n",
              "1    0\n",
              "2    0\n",
              "3    0\n",
              "4    0"
            ]
          },
          "metadata": {
            "tags": []
          },
          "execution_count": 99
        }
      ]
    },
    {
      "cell_type": "code",
      "metadata": {
        "id": "DAEZoAKpatFx"
      },
      "source": [
        "submission_file.to_csv('submission_file.csv', index=True)"
      ],
      "execution_count": 100,
      "outputs": []
    }
  ]
}